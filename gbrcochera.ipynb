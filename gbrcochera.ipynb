{
 "cells": [
  {
   "cell_type": "code",
   "execution_count": 1,
   "metadata": {
    "collapsed": true
   },
   "outputs": [],
   "source": [
    "import numpy as np \n",
    "import pandas as pd\n",
    "import calendar\n",
    "import math\n",
    "\n",
    "# plots\n",
    "import matplotlib.pyplot as plt\n",
    "#import seaborn as sns\n",
    "%matplotlib inline"
   ]
  },
  {
   "cell_type": "code",
   "execution_count": 2,
   "metadata": {
    "collapsed": true
   },
   "outputs": [],
   "source": [
    "filenames = ['properties/properati-AR-2016-03-01-properties-sell-six_months.csv',\n",
    "            'properties/properati-AR-2016-04-01-properties-sell.csv',\n",
    "            'properties/properati-AR-2016-05-01-properties-sell.csv',\n",
    "            'properties/properati-AR-2016-06-01-properties-sell.csv',\n",
    "            'properties/properati-AR-2016-07-01-properties-sell.csv',\n",
    "            'properties/properati-AR-2016-08-01-properties-sell.csv',\n",
    "            'properties/properati-AR-2016-09-01-properties-sell.csv',\n",
    "            'properties/properati-AR-2016-10-01-properties-sell.csv',\n",
    "            'properties/properati-AR-2016-11-01-properties-sell.csv',\n",
    "            'properties/properati-AR-2016-12-01-properties-sell.csv', \n",
    "            'properties/properati-AR-2017-01-01-properties-sell.csv',\n",
    "            'properties/properati-AR-2017-02-01-properties-sell.csv',\n",
    "            'properties/properati-AR-2017-08-01-properties-sell-six_months.csv']\n",
    "\n",
    "dataframes = []\n",
    "for filename in filenames:\n",
    "    dataframes.append(pd.read_csv(filename))\n",
    "    \n",
    "#Uno los dataFrame\n",
    "metadata = pd.DataFrame()\n",
    "for dataframe in dataframes:\n",
    "    metadata = pd.concat([metadata, dataframe]).drop_duplicates().reset_index(drop=True)"
   ]
  },
  {
   "cell_type": "code",
   "execution_count": 3,
   "metadata": {},
   "outputs": [
    {
     "data": {
      "text/plain": [
       "(242290, 27)"
      ]
     },
     "execution_count": 3,
     "metadata": {},
     "output_type": "execute_result"
    }
   ],
   "source": [
    "#Filtramos las propiedades de Buenos Aires\n",
    "data = metadata.loc[(metadata.state_name.str.contains('Buenos Aires')) | (metadata.state_name.str.contains\\\n",
    "                ('Capital Federal'))  | (metadata.state_name.str.contains\\\n",
    "                ('Bs.As') ),:]\n",
    "data.shape\n",
    "# 1.283.741 entries antes, ahora 242290"
   ]
  },
  {
   "cell_type": "code",
   "execution_count": 4,
   "metadata": {},
   "outputs": [
    {
     "data": {
      "text/html": [
       "<div>\n",
       "<style>\n",
       "    .dataframe thead tr:only-child th {\n",
       "        text-align: right;\n",
       "    }\n",
       "\n",
       "    .dataframe thead th {\n",
       "        text-align: left;\n",
       "    }\n",
       "\n",
       "    .dataframe tbody tr th {\n",
       "        vertical-align: top;\n",
       "    }\n",
       "</style>\n",
       "<table border=\"1\" class=\"dataframe\">\n",
       "  <thead>\n",
       "    <tr style=\"text-align: right;\">\n",
       "      <th></th>\n",
       "      <th>geonames_id</th>\n",
       "      <th>lat</th>\n",
       "      <th>lon</th>\n",
       "      <th>price</th>\n",
       "      <th>price_aprox_local_currency</th>\n",
       "      <th>price_aprox_usd</th>\n",
       "      <th>surface_total_in_m2</th>\n",
       "      <th>surface_covered_in_m2</th>\n",
       "      <th>price_usd_per_m2</th>\n",
       "      <th>price_per_m2</th>\n",
       "      <th>floor</th>\n",
       "      <th>rooms</th>\n",
       "      <th>expenses</th>\n",
       "    </tr>\n",
       "  </thead>\n",
       "  <tbody>\n",
       "    <tr>\n",
       "      <th>count</th>\n",
       "      <td>1.977450e+05</td>\n",
       "      <td>175574.000000</td>\n",
       "      <td>175574.000000</td>\n",
       "      <td>2.238850e+05</td>\n",
       "      <td>2.238850e+05</td>\n",
       "      <td>2.238850e+05</td>\n",
       "      <td>169994.000000</td>\n",
       "      <td>206584.000000</td>\n",
       "      <td>1.475720e+05</td>\n",
       "      <td>1.883390e+05</td>\n",
       "      <td>23312.000000</td>\n",
       "      <td>132384.000000</td>\n",
       "      <td>2.847200e+04</td>\n",
       "    </tr>\n",
       "    <tr>\n",
       "      <th>mean</th>\n",
       "      <td>3.492633e+06</td>\n",
       "      <td>-35.146553</td>\n",
       "      <td>-58.410186</td>\n",
       "      <td>3.109413e+05</td>\n",
       "      <td>3.877260e+06</td>\n",
       "      <td>2.316485e+05</td>\n",
       "      <td>249.915891</td>\n",
       "      <td>136.168759</td>\n",
       "      <td>1.958114e+03</td>\n",
       "      <td>4.254075e+03</td>\n",
       "      <td>18.746397</td>\n",
       "      <td>2.976515</td>\n",
       "      <td>3.844539e+03</td>\n",
       "    </tr>\n",
       "    <tr>\n",
       "      <th>std</th>\n",
       "      <td>3.914379e+05</td>\n",
       "      <td>1.536315</td>\n",
       "      <td>0.999009</td>\n",
       "      <td>7.957757e+05</td>\n",
       "      <td>5.746466e+06</td>\n",
       "      <td>3.420873e+05</td>\n",
       "      <td>1563.261275</td>\n",
       "      <td>2297.609111</td>\n",
       "      <td>3.900388e+03</td>\n",
       "      <td>1.857438e+04</td>\n",
       "      <td>137.064595</td>\n",
       "      <td>1.472099</td>\n",
       "      <td>8.417148e+04</td>\n",
       "    </tr>\n",
       "    <tr>\n",
       "      <th>min</th>\n",
       "      <td>3.427208e+06</td>\n",
       "      <td>-41.167596</td>\n",
       "      <td>-122.419415</td>\n",
       "      <td>0.000000e+00</td>\n",
       "      <td>0.000000e+00</td>\n",
       "      <td>0.000000e+00</td>\n",
       "      <td>0.000000</td>\n",
       "      <td>0.000000</td>\n",
       "      <td>0.000000e+00</td>\n",
       "      <td>6.275958e-02</td>\n",
       "      <td>1.000000</td>\n",
       "      <td>1.000000</td>\n",
       "      <td>1.000000e+00</td>\n",
       "    </tr>\n",
       "    <tr>\n",
       "      <th>25%</th>\n",
       "      <td>3.429651e+06</td>\n",
       "      <td>-34.724708</td>\n",
       "      <td>-58.567139</td>\n",
       "      <td>9.350000e+04</td>\n",
       "      <td>1.478683e+06</td>\n",
       "      <td>8.900000e+04</td>\n",
       "      <td>49.000000</td>\n",
       "      <td>45.000000</td>\n",
       "      <td>1.092593e+03</td>\n",
       "      <td>1.500000e+03</td>\n",
       "      <td>2.000000</td>\n",
       "      <td>2.000000</td>\n",
       "      <td>1.000000e+03</td>\n",
       "    </tr>\n",
       "    <tr>\n",
       "      <th>50%</th>\n",
       "      <td>3.430863e+06</td>\n",
       "      <td>-34.611605</td>\n",
       "      <td>-58.454166</td>\n",
       "      <td>1.580000e+05</td>\n",
       "      <td>2.443180e+06</td>\n",
       "      <td>1.450000e+05</td>\n",
       "      <td>89.000000</td>\n",
       "      <td>76.000000</td>\n",
       "      <td>1.739130e+03</td>\n",
       "      <td>2.043478e+03</td>\n",
       "      <td>3.000000</td>\n",
       "      <td>3.000000</td>\n",
       "      <td>1.850000e+03</td>\n",
       "    </tr>\n",
       "    <tr>\n",
       "      <th>75%</th>\n",
       "      <td>3.435379e+06</td>\n",
       "      <td>-34.562472</td>\n",
       "      <td>-58.379686</td>\n",
       "      <td>2.990000e+05</td>\n",
       "      <td>4.411125e+06</td>\n",
       "      <td>2.650000e+05</td>\n",
       "      <td>226.000000</td>\n",
       "      <td>155.000000</td>\n",
       "      <td>2.388664e+03</td>\n",
       "      <td>2.857143e+03</td>\n",
       "      <td>6.000000</td>\n",
       "      <td>4.000000</td>\n",
       "      <td>3.800000e+03</td>\n",
       "    </tr>\n",
       "    <tr>\n",
       "      <th>max</th>\n",
       "      <td>6.942539e+06</td>\n",
       "      <td>37.774929</td>\n",
       "      <td>3.379206</td>\n",
       "      <td>1.234568e+08</td>\n",
       "      <td>8.212711e+08</td>\n",
       "      <td>5.000000e+07</td>\n",
       "      <td>200000.000000</td>\n",
       "      <td>987897.000000</td>\n",
       "      <td>1.271027e+06</td>\n",
       "      <td>4.000000e+06</td>\n",
       "      <td>7167.000000</td>\n",
       "      <td>32.000000</td>\n",
       "      <td>1.000150e+07</td>\n",
       "    </tr>\n",
       "  </tbody>\n",
       "</table>\n",
       "</div>"
      ],
      "text/plain": [
       "        geonames_id            lat            lon         price  \\\n",
       "count  1.977450e+05  175574.000000  175574.000000  2.238850e+05   \n",
       "mean   3.492633e+06     -35.146553     -58.410186  3.109413e+05   \n",
       "std    3.914379e+05       1.536315       0.999009  7.957757e+05   \n",
       "min    3.427208e+06     -41.167596    -122.419415  0.000000e+00   \n",
       "25%    3.429651e+06     -34.724708     -58.567139  9.350000e+04   \n",
       "50%    3.430863e+06     -34.611605     -58.454166  1.580000e+05   \n",
       "75%    3.435379e+06     -34.562472     -58.379686  2.990000e+05   \n",
       "max    6.942539e+06      37.774929       3.379206  1.234568e+08   \n",
       "\n",
       "       price_aprox_local_currency  price_aprox_usd  surface_total_in_m2  \\\n",
       "count                2.238850e+05     2.238850e+05        169994.000000   \n",
       "mean                 3.877260e+06     2.316485e+05           249.915891   \n",
       "std                  5.746466e+06     3.420873e+05          1563.261275   \n",
       "min                  0.000000e+00     0.000000e+00             0.000000   \n",
       "25%                  1.478683e+06     8.900000e+04            49.000000   \n",
       "50%                  2.443180e+06     1.450000e+05            89.000000   \n",
       "75%                  4.411125e+06     2.650000e+05           226.000000   \n",
       "max                  8.212711e+08     5.000000e+07        200000.000000   \n",
       "\n",
       "       surface_covered_in_m2  price_usd_per_m2  price_per_m2         floor  \\\n",
       "count          206584.000000      1.475720e+05  1.883390e+05  23312.000000   \n",
       "mean              136.168759      1.958114e+03  4.254075e+03     18.746397   \n",
       "std              2297.609111      3.900388e+03  1.857438e+04    137.064595   \n",
       "min                 0.000000      0.000000e+00  6.275958e-02      1.000000   \n",
       "25%                45.000000      1.092593e+03  1.500000e+03      2.000000   \n",
       "50%                76.000000      1.739130e+03  2.043478e+03      3.000000   \n",
       "75%               155.000000      2.388664e+03  2.857143e+03      6.000000   \n",
       "max            987897.000000      1.271027e+06  4.000000e+06   7167.000000   \n",
       "\n",
       "               rooms      expenses  \n",
       "count  132384.000000  2.847200e+04  \n",
       "mean        2.976515  3.844539e+03  \n",
       "std         1.472099  8.417148e+04  \n",
       "min         1.000000  1.000000e+00  \n",
       "25%         2.000000  1.000000e+03  \n",
       "50%         3.000000  1.850000e+03  \n",
       "75%         4.000000  3.800000e+03  \n",
       "max        32.000000  1.000150e+07  "
      ]
     },
     "execution_count": 4,
     "metadata": {},
     "output_type": "execute_result"
    }
   ],
   "source": [
    "#Informacion del dataset\n",
    "data.describe()"
   ]
  },
  {
   "cell_type": "code",
   "execution_count": 5,
   "metadata": {},
   "outputs": [
    {
     "name": "stdout",
     "output_type": "stream",
     "text": [
      "<class 'pandas.core.frame.DataFrame'>\n",
      "Int64Index: 242290 entries, 0 to 296476\n",
      "Data columns (total 27 columns):\n",
      "id                            242290 non-null object\n",
      "created_on                    242290 non-null object\n",
      "operation                     242290 non-null object\n",
      "property_type                 242290 non-null object\n",
      "place_name                    242238 non-null object\n",
      "place_with_parent_names       242290 non-null object\n",
      "country_name                  242290 non-null object\n",
      "state_name                    242290 non-null object\n",
      "geonames_id                   197745 non-null float64\n",
      "lat-lon                       175574 non-null object\n",
      "lat                           175574 non-null float64\n",
      "lon                           175574 non-null float64\n",
      "price                         223885 non-null float64\n",
      "currency                      218619 non-null object\n",
      "price_aprox_local_currency    223885 non-null float64\n",
      "price_aprox_usd               223885 non-null float64\n",
      "surface_total_in_m2           169994 non-null float64\n",
      "surface_covered_in_m2         206584 non-null float64\n",
      "price_usd_per_m2              147572 non-null float64\n",
      "price_per_m2                  188339 non-null float64\n",
      "floor                         23312 non-null float64\n",
      "rooms                         132384 non-null float64\n",
      "expenses                      28472 non-null float64\n",
      "properati_url                 242290 non-null object\n",
      "description                   242281 non-null object\n",
      "title                         242290 non-null object\n",
      "image_thumbnail               238882 non-null object\n",
      "dtypes: float64(13), object(14)\n",
      "memory usage: 51.8+ MB\n"
     ]
    },
    {
     "data": {
      "text/plain": [
       "apartment    137094\n",
       "house         82560\n",
       "PH            15012\n",
       "store          7624\n",
       "Name: property_type, dtype: int64"
      ]
     },
     "execution_count": 5,
     "metadata": {},
     "output_type": "execute_result"
    }
   ],
   "source": [
    "data.info()\n",
    "data.property_type.value_counts()"
   ]
  },
  {
   "cell_type": "code",
   "execution_count": 6,
   "metadata": {},
   "outputs": [
    {
     "data": {
      "text/plain": [
       "(136703, 27)"
      ]
     },
     "execution_count": 6,
     "metadata": {},
     "output_type": "execute_result"
    }
   ],
   "source": [
    "#Podemos ver rapidamente que hay propiedades con superficie 0 y precio 0 como minimo y casos excepcionales como maximo, lo cual no tiene sentido\n",
    "# filtro de datos anómalos\n",
    "data = \\\n",
    "data.loc[((data.surface_total_in_m2 > 0.0) & (data.surface_total_in_m2 <= 1000000.0)) & \\\n",
    "               ((data.surface_covered_in_m2 > 0.0) & (data.surface_covered_in_m2 <= 50000000.0)) &\\\n",
    "               (data.price_aprox_usd > 0.0)\\\n",
    "               , :]\n",
    "\n",
    "\n",
    "data.shape"
   ]
  },
  {
   "cell_type": "code",
   "execution_count": 7,
   "metadata": {},
   "outputs": [
    {
     "data": {
      "text/html": [
       "<div>\n",
       "<style>\n",
       "    .dataframe thead tr:only-child th {\n",
       "        text-align: right;\n",
       "    }\n",
       "\n",
       "    .dataframe thead th {\n",
       "        text-align: left;\n",
       "    }\n",
       "\n",
       "    .dataframe tbody tr th {\n",
       "        vertical-align: top;\n",
       "    }\n",
       "</style>\n",
       "<table border=\"1\" class=\"dataframe\">\n",
       "  <thead>\n",
       "    <tr style=\"text-align: right;\">\n",
       "      <th></th>\n",
       "      <th>id</th>\n",
       "      <th>created_on</th>\n",
       "      <th>operation</th>\n",
       "      <th>property_type</th>\n",
       "      <th>place_name</th>\n",
       "      <th>place_with_parent_names</th>\n",
       "      <th>country_name</th>\n",
       "      <th>state_name</th>\n",
       "      <th>geonames_id</th>\n",
       "      <th>lat-lon</th>\n",
       "      <th>...</th>\n",
       "      <th>surface_covered_in_m2</th>\n",
       "      <th>price_usd_per_m2</th>\n",
       "      <th>price_per_m2</th>\n",
       "      <th>floor</th>\n",
       "      <th>rooms</th>\n",
       "      <th>expenses</th>\n",
       "      <th>properati_url</th>\n",
       "      <th>description</th>\n",
       "      <th>title</th>\n",
       "      <th>image_thumbnail</th>\n",
       "    </tr>\n",
       "  </thead>\n",
       "  <tbody>\n",
       "    <tr>\n",
       "      <th>0</th>\n",
       "      <td>44ea5bafa3b885e5258e43007df2585779e5104f</td>\n",
       "      <td>2015-09-01</td>\n",
       "      <td>sell</td>\n",
       "      <td>house</td>\n",
       "      <td>Castelar</td>\n",
       "      <td>|Argentina|Bs.As. G.B.A. Zona Oeste|Morón|Cast...</td>\n",
       "      <td>Argentina</td>\n",
       "      <td>Bs.As. G.B.A. Zona Oeste</td>\n",
       "      <td>3435607.0</td>\n",
       "      <td>-34.6437012,-58.6515478</td>\n",
       "      <td>...</td>\n",
       "      <td>500.0</td>\n",
       "      <td>1400.000000</td>\n",
       "      <td>1400.000000</td>\n",
       "      <td>NaN</td>\n",
       "      <td>6.0</td>\n",
       "      <td>NaN</td>\n",
       "      <td>http://www.properati.com.ar/sw8m_venta_casa_ca...</td>\n",
       "      <td>Venta - Chalet - LOTE 730 M2 - 17,32x43,30mts....</td>\n",
       "      <td>CASA EN VENTA</td>\n",
       "      <td>https://thumbs4.properati.com/1/Xu5ZT3SuzUdM8Y...</td>\n",
       "    </tr>\n",
       "    <tr>\n",
       "      <th>1</th>\n",
       "      <td>5a098d1d52954434cb083a3b4bdd68a794f01576</td>\n",
       "      <td>2015-09-01</td>\n",
       "      <td>sell</td>\n",
       "      <td>house</td>\n",
       "      <td>Castelar</td>\n",
       "      <td>|Argentina|Bs.As. G.B.A. Zona Oeste|Morón|Cast...</td>\n",
       "      <td>Argentina</td>\n",
       "      <td>Bs.As. G.B.A. Zona Oeste</td>\n",
       "      <td>3435607.0</td>\n",
       "      <td>NaN</td>\n",
       "      <td>...</td>\n",
       "      <td>170.0</td>\n",
       "      <td>1058.823529</td>\n",
       "      <td>1058.823529</td>\n",
       "      <td>NaN</td>\n",
       "      <td>NaN</td>\n",
       "      <td>NaN</td>\n",
       "      <td>http://www.properati.com.ar/sw94_venta_casa_ca...</td>\n",
       "      <td>VENTA  DE CASA 4 AMB - CASTELAR 170 m2 cub / 3...</td>\n",
       "      <td>CASA EN VENTA</td>\n",
       "      <td>https://thumbs4.properati.com/4/SMAEXX7hxbdJjt...</td>\n",
       "    </tr>\n",
       "    <tr>\n",
       "      <th>5</th>\n",
       "      <td>73891d7a4a76aed25befb4f736cbe478eeb51f58</td>\n",
       "      <td>2015-09-01</td>\n",
       "      <td>sell</td>\n",
       "      <td>house</td>\n",
       "      <td>San Martín</td>\n",
       "      <td>|Argentina|Bs.As. G.B.A. Zona Norte|General Sa...</td>\n",
       "      <td>Argentina</td>\n",
       "      <td>Bs.As. G.B.A. Zona Norte</td>\n",
       "      <td>NaN</td>\n",
       "      <td>-34.5366890239,-58.5669758524</td>\n",
       "      <td>...</td>\n",
       "      <td>100.0</td>\n",
       "      <td>357.142857</td>\n",
       "      <td>1000.000000</td>\n",
       "      <td>NaN</td>\n",
       "      <td>NaN</td>\n",
       "      <td>NaN</td>\n",
       "      <td>http://www.properati.com.ar/swa4_venta_departa...</td>\n",
       "      <td>CODIGO: 1092-rionegro y bvar ballester ubicado...</td>\n",
       "      <td>Chilavert. Casa 3 ambientes s/lote de 8.66x30</td>\n",
       "      <td>https://thumbs4.properati.com/3/siaMAf4dZvM68L...</td>\n",
       "    </tr>\n",
       "    <tr>\n",
       "      <th>9</th>\n",
       "      <td>bd013c64cde13788c1970fb96ee93ab5b77338c0</td>\n",
       "      <td>2015-09-01</td>\n",
       "      <td>sell</td>\n",
       "      <td>apartment</td>\n",
       "      <td>Palermo Soho</td>\n",
       "      <td>|Argentina|Capital Federal|Palermo|Palermo Soho|</td>\n",
       "      <td>Argentina</td>\n",
       "      <td>Capital Federal</td>\n",
       "      <td>3430234.0</td>\n",
       "      <td>-34.6037232,-58.3815931</td>\n",
       "      <td>...</td>\n",
       "      <td>42.0</td>\n",
       "      <td>2888.888889</td>\n",
       "      <td>3095.238095</td>\n",
       "      <td>NaN</td>\n",
       "      <td>NaN</td>\n",
       "      <td>NaN</td>\n",
       "      <td>http://www.properati.com.ar/swau_venta_departa...</td>\n",
       "      <td>CODIGO: 1114-68 ubicado en: COSTA RICA AL 4400...</td>\n",
       "      <td>1 AMBIENTE A ESTRENAR PALERMO SOHO</td>\n",
       "      <td>https://thumbs4.properati.com/6/_032Pt2pJxv4nX...</td>\n",
       "    </tr>\n",
       "    <tr>\n",
       "      <th>12</th>\n",
       "      <td>6bd9a3d73cdc0a5ddde2ebb70ccdf58565feb82d</td>\n",
       "      <td>2015-09-01</td>\n",
       "      <td>sell</td>\n",
       "      <td>house</td>\n",
       "      <td>Nordelta</td>\n",
       "      <td>|Argentina|Bs.As. G.B.A. Zona Norte|Tigre|Nord...</td>\n",
       "      <td>Argentina</td>\n",
       "      <td>Bs.As. G.B.A. Zona Norte</td>\n",
       "      <td>NaN</td>\n",
       "      <td>NaN</td>\n",
       "      <td>...</td>\n",
       "      <td>500.0</td>\n",
       "      <td>2400.000000</td>\n",
       "      <td>2400.000000</td>\n",
       "      <td>NaN</td>\n",
       "      <td>4.0</td>\n",
       "      <td>NaN</td>\n",
       "      <td>http://www.properati.com.ar/swbx_venta_casa_no...</td>\n",
       "      <td>CASA EN VENTA CON RENTA EN NORDELTA, BARRIO LO...</td>\n",
       "      <td>CASA EN VENTA</td>\n",
       "      <td>https://thumbs4.properati.com/5/CbBpIKPlMt4lTR...</td>\n",
       "    </tr>\n",
       "  </tbody>\n",
       "</table>\n",
       "<p>5 rows × 27 columns</p>\n",
       "</div>"
      ],
      "text/plain": [
       "                                          id  created_on operation  \\\n",
       "0   44ea5bafa3b885e5258e43007df2585779e5104f  2015-09-01      sell   \n",
       "1   5a098d1d52954434cb083a3b4bdd68a794f01576  2015-09-01      sell   \n",
       "5   73891d7a4a76aed25befb4f736cbe478eeb51f58  2015-09-01      sell   \n",
       "9   bd013c64cde13788c1970fb96ee93ab5b77338c0  2015-09-01      sell   \n",
       "12  6bd9a3d73cdc0a5ddde2ebb70ccdf58565feb82d  2015-09-01      sell   \n",
       "\n",
       "   property_type    place_name  \\\n",
       "0          house      Castelar   \n",
       "1          house      Castelar   \n",
       "5          house    San Martín   \n",
       "9      apartment  Palermo Soho   \n",
       "12         house      Nordelta   \n",
       "\n",
       "                              place_with_parent_names country_name  \\\n",
       "0   |Argentina|Bs.As. G.B.A. Zona Oeste|Morón|Cast...    Argentina   \n",
       "1   |Argentina|Bs.As. G.B.A. Zona Oeste|Morón|Cast...    Argentina   \n",
       "5   |Argentina|Bs.As. G.B.A. Zona Norte|General Sa...    Argentina   \n",
       "9    |Argentina|Capital Federal|Palermo|Palermo Soho|    Argentina   \n",
       "12  |Argentina|Bs.As. G.B.A. Zona Norte|Tigre|Nord...    Argentina   \n",
       "\n",
       "                  state_name  geonames_id                        lat-lon  \\\n",
       "0   Bs.As. G.B.A. Zona Oeste    3435607.0        -34.6437012,-58.6515478   \n",
       "1   Bs.As. G.B.A. Zona Oeste    3435607.0                            NaN   \n",
       "5   Bs.As. G.B.A. Zona Norte          NaN  -34.5366890239,-58.5669758524   \n",
       "9            Capital Federal    3430234.0        -34.6037232,-58.3815931   \n",
       "12  Bs.As. G.B.A. Zona Norte          NaN                            NaN   \n",
       "\n",
       "                          ...                          surface_covered_in_m2  \\\n",
       "0                         ...                                          500.0   \n",
       "1                         ...                                          170.0   \n",
       "5                         ...                                          100.0   \n",
       "9                         ...                                           42.0   \n",
       "12                        ...                                          500.0   \n",
       "\n",
       "    price_usd_per_m2  price_per_m2 floor  rooms  expenses  \\\n",
       "0        1400.000000   1400.000000   NaN    6.0       NaN   \n",
       "1        1058.823529   1058.823529   NaN    NaN       NaN   \n",
       "5         357.142857   1000.000000   NaN    NaN       NaN   \n",
       "9        2888.888889   3095.238095   NaN    NaN       NaN   \n",
       "12       2400.000000   2400.000000   NaN    4.0       NaN   \n",
       "\n",
       "                                        properati_url  \\\n",
       "0   http://www.properati.com.ar/sw8m_venta_casa_ca...   \n",
       "1   http://www.properati.com.ar/sw94_venta_casa_ca...   \n",
       "5   http://www.properati.com.ar/swa4_venta_departa...   \n",
       "9   http://www.properati.com.ar/swau_venta_departa...   \n",
       "12  http://www.properati.com.ar/swbx_venta_casa_no...   \n",
       "\n",
       "                                          description  \\\n",
       "0   Venta - Chalet - LOTE 730 M2 - 17,32x43,30mts....   \n",
       "1   VENTA  DE CASA 4 AMB - CASTELAR 170 m2 cub / 3...   \n",
       "5   CODIGO: 1092-rionegro y bvar ballester ubicado...   \n",
       "9   CODIGO: 1114-68 ubicado en: COSTA RICA AL 4400...   \n",
       "12  CASA EN VENTA CON RENTA EN NORDELTA, BARRIO LO...   \n",
       "\n",
       "                                            title  \\\n",
       "0                                   CASA EN VENTA   \n",
       "1                                   CASA EN VENTA   \n",
       "5   Chilavert. Casa 3 ambientes s/lote de 8.66x30   \n",
       "9              1 AMBIENTE A ESTRENAR PALERMO SOHO   \n",
       "12                                  CASA EN VENTA   \n",
       "\n",
       "                                      image_thumbnail  \n",
       "0   https://thumbs4.properati.com/1/Xu5ZT3SuzUdM8Y...  \n",
       "1   https://thumbs4.properati.com/4/SMAEXX7hxbdJjt...  \n",
       "5   https://thumbs4.properati.com/3/siaMAf4dZvM68L...  \n",
       "9   https://thumbs4.properati.com/6/_032Pt2pJxv4nX...  \n",
       "12  https://thumbs4.properati.com/5/CbBpIKPlMt4lTR...  \n",
       "\n",
       "[5 rows x 27 columns]"
      ]
     },
     "execution_count": 7,
     "metadata": {},
     "output_type": "execute_result"
    }
   ],
   "source": [
    "#Vista del dataframe\n",
    "data.head()"
   ]
  },
  {
   "cell_type": "code",
   "execution_count": 8,
   "metadata": {},
   "outputs": [
    {
     "data": {
      "text/plain": [
       "LAS FRESIAS GARDEN - VILLA DEL PARQUE Hermosa unidad de 3 ambientes con muy buena distribución y metraje en el emprendimiento mas prestigioso del barrio. UNIDADES DE 1,2,3 y 4 ambientes. IDEAL INVERSORES precios excelentes. Único por Naturaleza: Emplazado sobre Remedios de Escalada de San Martín esquina Condarco, en un entorno ideal para disfrutar en familia por su escencia de barrio y su impronta moderna, nace Fresias Garden, un condominio residencial, que contará con un total de 160 unidades de 2, 3 y 4 ambientes distribuidas en Planta Baja y módulos de 6 y 8 pisos, cada una de estas contará con amplios balcones y vistas al parque central de 3.700 m2. El proyecto contará con espacios parquizados y amenities de primer nivel que permitirá combinar el tiempo libre y en familia en un entorno seguro. Único por su estilo: Fresias Garden, ofrecerá al mejor estilo de un barrio cerrado una importante oferta de amenities, entre los que se destaca el área deportiva compuesta por la piscina climatizada,cancha de fútbol y un moderno gimnasio equipado como los más completos fitness center. Además, el complejo contará con social room y un parque central de unos 3700 metros cuadrados. En torno a un gran Parque Central, Fresias Garden, tendrá un total de 160 unidades de 3 y 4 ambientes, distribuidas en Planta Baja y módulos de 6 y 8 pisos, cada una de estas contará con amplios balcones y vistas a los jardines del complejo. Único por su ubicación: Fresias Garden cuenta con una ubicación estratégica, a pocos metros de los centros comerciales de Villa del Parque y Villa Devoto. El proyecto cuenta con varias vías de acceso, rápidas y seguras al centro porteño y al corredor Norte y Oeste del gran Buenos Aires. A su vez, al encontrarse a una cuadra del Metrobus, el desarrollo cuenta con numerosas alternativas de transporte público. Consulte por financiación y formas de pago. Se deja expresa constancia que las medidas, superficies, m2 y proporciones consignadas son aproximados, al igual que las medidas parciales y/o de los ambientes esta sujeto a verificación y/o ajuste. El valor indicado de expensas esta sujeto a variación. El precio del inmueble puede ser modificado sin previo aviso. Fotos de carácter no contractual.                                                                                                                                                                                                                                                                                                                                                                                                                                                                                                                                                     77\n",
       "Di Mitrio InmobiliariaAv. Martin Garcia 560 - Carlos Calvo 691 - 20 de Septiembre 314 -                                                                                                                                                                                                                                                                                                                                                                                                                                                                                                                                                                                                                                                                                                                                                                                                                                                                                                                                                                                                                                                                                                                                                                                                                                                                                                                                                                                                                                                                                                                                                                                                                                                                                                                                                                                                                                                                                                                                                                                                                                                                                                                                                                                                                                                                                                                                                                                                                                                                                                                                                                                                                                                                                                                                                                                          72\n",
       "ASTILLERO se encontrará emplazado en Madero Sur: inserto en el Distrito de las Artes y lindero a la nueva sede del Banco Santander Río: Próximo a la futura Autopista Ribereña y Paseo del Bajo, a \"un cruce de calle\" de Puerto Madero. Un Astillero de principios del Siglo XX, originalmente en la Ribera del Río de la La Plata, se convertirá en un Edificio de 14 Pisos, 4 Subsuelos y mas de 20.000 m2 de Obra Nueva, logrando una Fusión Contemporánea. Fueron convocados los estudios Moarqs y Bma &amp; Asociados (Desarrolladores de Proyectos como Zen City, Shopping Tortugas Open Mall, Aeropuerto Jorge Newbery, Soho Tower, entre otras Reconocidas Obras).ASTILLERO contará con Unidades de 1 y 2 Ambientes, todas ellas con Balcones, Dispuestos al Frente y Contrafrente, algunas de ellas con Vista Abierta hacia Puerto Madero. Todas las Unidades serán Externas, tanto al Frente como al Contrafrente. Todas las Unidades son Aptas para Uso Profesional.El Emprendimiento contara con Cocheras Cubiertas, Piscina Semi-Olímpica, Pileta Baja para Relax, Lounge Bar, Fitness Center con Vestuarios, Solarium con Jacuzzi Climatizado y Sector Parrillas en Terraza, Cava Privada con Lockers, Business Center, Laundry, Espacio para Bicicletas, Sector Lava-Autos, Seguridad 24hs, Sistema de Seguridad Digital, Wifi en Áreas Comunes, Grupo Electrógeno, Iluminación y Jardines con Criterio de Sustentabilidad.Su Ubicación Privilegiada, la Tipologia de sus Superficies, sus Detalles de Confort y su Excelente Diseño, harán de ASTILLERO un Referente del Desarrollo Inmobiliario del Área. Una Segura Inversión Inmobiliaria con un alto Potencial de Revalorización.Una Oportunidad Única para realizar Inversión a Precios Exclusivos!Di Mitrio InmobiliariaAv. Martin Garcia 560 - Carlos Calvo 691 - 20 de Septiembre 314 -                                                                                                                                                                                                                                                                                                                                                                                                                                                                                                                                                                                                                                                                                                                                                                                                                                                                                                                                                                                                                 68\n",
       "Winterra S.A.Catamarca 1150CMCPSI5015                                                                                                                                                                                                                                                                                                                                                                                                                                                                                                                                                                                                                                                                                                                                                                                                                                                                                                                                                                                                                                                                                                                                                                                                                                                                                                                                                                                                                                                                                                                                                                                                                                                                                                                                                                                                                                                                                                                                                                                                                                                                                                                                                                                                                                                                                                                                                                                                                                                                                                                                                                                                                                                                                                                                                                                                                                            65\n",
       "Emprendimiento ícono en la zona, Caballito Norte. Sobre Av. San Martin al 1700.Edificio de Categoría de triple frente, con gran diseño arquitectónico y calidad de terminacionesCuenta con unidades de 1, 2 y 3 ambientes. Algunas unidades cuentan con balcones aterrazados y cocina independienteLas unidades pueden ser unificadas para armarse a gusto de cada clienteMultiamenities:SUM - Sala de Juegos - Piscina - Spa, Sauna y Vestuarios - Fitness Center - Espacio Social - Microcine - Business Center - Sky Park con Huerta.Cocheras opcionalesPerspectivas artísticas del emprendimiento. El mobiliario fue incluido a título ilustrativo y no forma parte del contrato. Material sujeto a alteraciones.                                                                                                                                                                                                                                                                                                                                                                                                                                                                                                                                                                                                                                                                                                                                                                                                                                                                                                                                                                                                                                                                                                                                                                                                                                                                                                                                                                                                                                                                                                                                                                                                                                                                                                                                                                                                                                                                                                                                                                                                                                                                                                                                                            63\n",
       "El edificio esta compuesto por 86 unidades de vivienda Monoambientes, de 2, de 3 y 4 ambientes, que se encuentran entre el 2º y 14º piso. 211 cocheras y 5 bauleras ubicadas en SS-PB -1 PISO. 3 Locales ubicados en PB - 1ºpiso y SS. 1 oficina en 2º pisoAMENITIES2º piso-Solarium con piscina para adultos y para chicos con deck de madera- Sector de parrillas con baños- Kids Club- Sauna- Cancha de Tenis15º piso- SUM-Gimnasio-Microcine-LaundryCOCHERASParedes revocadas a la cal fratazado al fieltro pintadas al látex color grisCielorraso alisado de hormigón, tipo industrialInstalación contra incendio según regulaciones vigentesInstalación eléctrica según reglamentación del ENRE. Proyecto realizado y verificado por Electricista MatriculadoHALL DE ENTRADAParedes con enlucido de yeso pintadas al látex color blancoCielorraso y estructura de hormigon visto pintada al látex color blancoPisos y zocalos en porcelanato nacional 60x60cm o calidad similarCerramiento con carpintería en acero inoxidable, vitras y puerta de vidrio templado.CAJA DE ESCALERAParedes enlucidos de yeso pintadas al latex color blancoCielorraso y structura de hormigon visto pintada l latex color blancoPiso alisado de cemento con esmalte para piso color grisCarpinteria marco de chapa hoja doble chapa inyectada al poliuretano con cierra puerta externo de 0.90m \"POTENZA\" o calidad similar segun normas contra incendioPALIERPisos y zocalos ceramico \"SAN LORENZO\" Fortezze Marfil 30x30 o calidad similarParedes y cielorrasos con enlucido de yeso pintados al látex color blancoESTAR COMEDOR-PASILLOS-DORMITORIOSParedes y ciellorasos con enlucido de yeso pintadas al látex blancoPisos flotantes con color Haya o similar.COCINAPisos y revestimiento marca \"SAN LORENZO\" Rafaello perlato 30x30 o calidad similarRevestimiento cerámicos marca \"SAN LORENZO\" blanco brillante de 20x25 o calidad similar en paredes donde se apoyan muebles de cocina, en el resto enlucido de yeso pintadas al látex blancoMuebles bajo mesada y alacena en melanina con canto en aluminioMesada de granito gris Mara de 20mm o calidad similarGriferia sobremesada marca FV o Hidromet o calidad similarBacha de cocina de acero inoxidable marca \"MI PILETA\" o calidad similarCocina electrica marca \"LONGVIE\", \"INDESIT\" o calidad similar de 0.56x0.60Pileta de lavar marca \"FERRUM,\" o calidad similar, donde correspondaBAÑOSPiso y Revestimiento cerámicos marca \"SAN LORENZO\" Rafaelo marfil 30x30 o calidad similarBañera de chapa marca \"FERRUM\", \"ROCA\" o calidad similarArtefactos sanitarios marca \"FERRUM\" linea Bari o roca linea MónacoGriferia para ducha, lavatorio y bidet marca FV o Hidromet o calidad similarAccesorios acorde a la griferia seleccionadaBALCONESPiso cerámico marca\" CERRO NEGRO\" Terme Gris 30x30 o calidad similar     62\n",
       "VENTA Departamento en SaavedraUbicado en el barrio de Saavedra, lindero a Coghlan y Nuñez. A pocas cuadras del shopping DOT, autopista Gral Paz, Estación Saavedra FF.CC Mietre.Departamentos de 1, 2, 3 y 4 ambientes. 19 COCHERAS Y BAULERAS OPTATIVAS. -Cocina eléctrica, revestimiento de melaminico con canto ABS colores gris granito y arcilla.-Baño completo-Pisos de porcellanatoAMENITIES: SUM, piscina y jacuzzi, solarium con duchas, parrilla, bauleras.SeguridadEntrega principios 2017 -  - EFEGE PROPIEDADES                                                                                                                                                                                                                                                                                                                                                                                                                                                                                                                                                                                                                                                                                                                                                                                                                                                                                                                                                                                                                                                                                                                                                                                                                                                                                                                                                                                                                                                                                                                                                                                                                                                                                                                                                                                                                                                                                                                                                                                                                                                                                                                                                                                                                                                                                                                                                     52\n",
       "Espai Patricios se encuentra emplazado en el Barrio de la Nueva Sede del Gobierno Porteño: el Renovado Parque Patricios. Una zona con una Alta Perspectiva de Crecimiento, con una Ubicación Geográfica Estratégica: Emplazado en la equina de La Rioja y Avenida Chiclana; A Pocas Cuadras del Metrobus y Estación Inclán - Subte Linea \"H\".La Ubicación de Espai Patricios y su Excelente Diseño, garantiza un Rápido Retorno de la Inversión y Gran Agilidad en la Comercialización de las Unidades: tanto para la Venta como para el Alquiler. El Emprendimiento estará formado por 9 Pisos y contará con 7/8 Unidades por Piso, distribuidos en Tipologías de 1, 2, 3 y 4 Ambientes. Todos ellos, aptos para Vivienda y Uso Profesional. La Totalidad de las Unidades serán Externas y contarán con Balcones y/o Terrazas Propias, dispondrán de Excelente Luminosidad y Condiciones de Asoleamiento.El Emprendimiento contara con Hall de Acceso del Edificio en Doble Altura, Bauleras, Cocheras Cubiertas en su Planta Baja y Subsuelo, Solarium con Jacuzzi, Parrillas, Salón de Usos Múltiples y Grupo Electrógeno.Las Unidades se entregaran equipadas con Sistemas Aqua System o Hidrobronz, Bocas de Conexión de TV, Teléfono y Datos, Anafe y Horno Eléctrico, Muebles de Cocina en Melamina, Mesada de Granito, Pisos Flotantes o Cerámica de Primera Marca, Griferías y Accesorios linea Roca, Piso y Paredes de Cerámico en Baño.Ideal Inversores: Una Oportunidad Única para realizar Inversión desde el Pozo, a Precios Exclusivos!Edificio en Construcción: con Entrega Diciembre de 2018.Dirección: Ing. Guillermo Sambresqui y Profesionales Asociados. / Construcción: Baudizzone, Lestard y AsociadosDi Mitrio InmobiliariaAv. Martin Garcia 560 - Carlos Calvo 691 - 20 de Septiembre 314 -                                                                                                                                                                                                                                                                                                                                                                                                                                                                                                                                                                                                                                                                                                                                                                                                                                                                                                                                                                                                                                                             47\n",
       "Forma de pago: 30% en la firma de la adhesión y luego 36 cuotas en pesos mas CAC a pagar a partir de Febrero de 2017.- CUCICBA Mat 475                                                                                                                                                                                                                                                                                                                                                                                                                                                                                                                                                                                                                                                                                                                                                                                                                                                                                                                                                                                                                                                                                                                                                                                                                                                                                                                                                                                                                                                                                                                                                                                                                                                                                                                                                                                                                                                                                                                                                                                                                                                                                                                                                                                                                                                                                                                                                                                                                                                                                                                                                                                                                                                                                                                                           46\n",
       "EL EMPRENDIMIENTO QUE LA ZONA DE PLAZA FLORES ESPERABASe trata de un Emprendimiento en construcción que generará un antes y un después en la zona mejorando todo su entorno. El edificio cuenta con el apoyo del Gobierno de la Ciudad-Área de Patrimonio Histórico y La Comuna de Flores.                                                                                                                                                                                                                                                                                                                                                                                                                                                                                                                                                                                                                                                                                                                                                                                                                                                                                                                                                                                                                                                                                                                                                                                                                                                                                                                                                                                                                                                                                                                                                                                                                                                                                                                                                                                                                                                                                                                                                                                                                                                                                                                                                                                                                                                                                                                                                                                                                                                                                                                                                                                       46\n",
       "Leila Fittipaldi inversiones inmobiliarias.Sucursal Constitución >> Constitución 4655 . Tel. 0223 479-9966Casa central >> Entre Rios 1970 . Tel. 0223 492-4509 ||                                                                                                                                                                                                                                                                                                                                                                                                                                                                                                                                                                                                                                                                                                                                                                                                                                                                                                                                                                                                                                                                                                                                                                                                                                                                                                                                                                                                                                                                                                                                                                                                                                                                                                                                                                                                                                                                                                                                                                                                                                                                                                                                                                                                                                                                                                                                                                                                                                                                                                                                                                                                                                                                                                                45\n",
       "Venta de Departamento 1 AMBIENTE en PaternalEl emprendimiento esta situado en calle San Blas en el barrio de Paternal. A metros de Av San Martín. Acceso a muchas lineas de colectivos y cercanía con el Hospital Italiano. Amenitis: Parrilla - solárium - espacio para laundry.LEPORE PROPIEDADES  /LEPORE Propiedades S.A.CUIT : 33-60234274-9C.U.C.I.C.B.A. Matrícula Nº 1139 (Sucursal Villa Crespo)AVISO LEGAL: Las descripciones arquitectónicas y funcionales, valores de expensas, impuestos y servicios, fotos y medidas de este inmueble son aproximados. Los datos fueron proporcionados por el propietario y pueden no estar actualizados a la hora de la visualización de este aviso por lo cual pueden arrojar inexactitudes y discordancias con las que surgen de los las facturas, títulos y planos legales del inmueble. El interesado deberá realizar las verificaciones respectivas previamente a la realización de cualquier operación, requiriendo por sí o sus profesionales las copias necesarias de la documentación que corresponda.Venta supeditada al cumplimiento por parte del propietario de los requisitos de la resolución general Nº 2371 de la AFIP (pedido de COTI) -  - LEPORE PROPIEDADES                                                                                                                                                                                                                                                                                                                                                                                                                                                                                                                                                                                                                                                                                                                                                                                                                                                                                                                                                                                                                                                                                                                                                                                                                                                                                                                                                                                                                                                                                                                                                                                                                                                  44\n",
       "Edificio con excelente ubicación en el barrio de San Telmo, a pasos del centro porteño y a 100m de Quartier San Telmo, con departamentos en venta de 2 y 3 ambientes, cocheras cubiertas o descubiertas opcionales. GARAY 612 incorpora además una excelente gama de amenities entre los que incluye una pileta de natación con revestimiento Aquavations con deck y solárium. con un amplio un SUM con parrilla. Las unidades se desarrollan con una calidad constructiva de primera y presentan un diseño sumamente funcional y eficiente. Fecha de entrega aproximada: 2017-03-01                                                                                                                                                                                                                                                                                                                                                                                                                                                                                                                                                                                                                                                                                                                                                                                                                                                                                                                                                                                                                                                                                                                                                                                                                                                                                                                                                                                                                                                                                                                                                                                                                                                                                                                                                                                                                                                                                                                                                                                                                                                                                                                                                                                                                                                                                             44\n",
       "VENTA DE MONOAMBIENTE A ESTRENAR EN ALMAGROEntre México e IndependenciaHermoso monombiente a estrenar en edificio de construcción terminada.Apto profesional. 40 metros cubiertos con balcón de 3 m2. Cocina integrada con muebles completos, piso de porcelanato. Baño completo.Consultar por baulera y cochera opcionales, en el edificio. IMPORTANTE: ESTOS PRECIOS ESTÁN SUJETOS A APROBACIÓN DEL PROPIETARIO                                                                                                                                                                                                                                                                                                                                                                                                                                                                                                                                                                                                                                                                                                                                                                                                                                                                                                                                                                                                                                                                                                                                                                                                                                                                                                                                                                                                                                                                                                                                                                                                                                                                                                                                                                                                                                                                                                                                                                                                                                                                                                                                                                                                                                                                                                                                                                                                                                                                42\n",
       "Edificio Ubicado en Morón Sur, a cinco cuadras de la estación. Unidades de 1,2 y 3 ambientes con terraza y cocina separada, amplias y luminosas, excelente detalle constructivo. Las unidades se entregan con instalacion de luz y gas, ventanas de aluminio, baño completo con grifería FV o similar, sanitarios Ferrum, bañera enlozada, cortina de pvc en ventanas, cocina completa con mesada de granito, bacha de acero, portero eléctrico visor, cocina de 4 hornallas y horno, calefactor tito balanceado, pre instalación de aire acondicionado, cochera con porton levadizo automatico. Cocheras Opcionales. ADELANTO Y CUOTAS FIJAS EN PESOS. IDEAL INVERSOR. consulte precios de contado !!!                                                                                                                                                                                                                                                                                                                                                                                                                                                                                                                                                                                                                                                                                                                                                                                                                                                                                                                                                                                                                                                                                                                                                                                                                                                                                                                                                                                                                                                                                                                                                                                                                                                                                                                                                                                                                                                                                                                                                                                                                                                                                                                                                                          40\n",
       " El Proyecto cuenta con Unidades de 2, 3 y 4 ambientes con balcones, terrazas o jardines propios con parrillas individuales y hermosas vistas a espacios parquizados.Amenities y sectores exclusivos: Jardín central Parquizado, Piscina con Solarium, Jacuzzi, Gimnasio y Vestuarios, Sector de juegos para chicos, Cocheras y espacio para bauleras, SUM y sector parrilla, Cancha de tenis, Plaza y sendero público perimetral.Pasionaria Martinez te ofrece una ubicación privilegiada. A solo metros de la Panamericana y te ofrece además numerosas alternativas de transporte público. Emplazado en las inmediaciones del Jockey Club y del hipódromo, a metros de Unicenter Shopping.Winterra S.A.Catamarca 1150CMCPSI5015                                                                                                                                                                                                                                                                                                                                                                                                                                                                                                                                                                                                                                                                                                                                                                                                                                                                                                                                                                                                                                                                                                                                                                                                                                                                                                                                                                                                                                                                                                                                                                                                                                                                                                                                                                                                                                                                                                                                                                                                                                                                                                                                               39\n",
       "Edificio en construcción En una de las avenidas más emblemáticas de Buenos Aires, se desarrolla esta torre de 13 pisos, con departamentos aptos para trabajo, bajo el concepto work & living. Consiste en 95 monoambientes en San Telmo con superficies de 30 a 36 m2. Además, el proyecto cuenta con 44 amplias cocheras y un local comercial en planta baja.ENTREGA DICIEMBRE 2019                                                                                                                                                                                                                                                                                                                                                                                                                                                                                                                                                                                                                                                                                                                                                                                                                                                                                                                                                                                                                                                                                                                                                                                                                                                                                                                                                                                                                                                                                                                                                                                                                                                                                                                                                                                                                                                                                                                                                                                                                                                                                                                                                                                                                                                                                                                                                                                                                                                                                             39\n",
       "Urquiza Roosevelt.... un Emprendimiento con todo lo que necesitas...ENTREGA JUNIO 2018PLANES DE PAGO A MEDIDA.BOLETO+CUOTAS EN PESOS CON CAC+POSESIÓN CON CACCONSULTE POR FINANCIACIÓN ESPECIAL A MEDIDA. Atención al Público en Obra: Los días Jueves - Viernes - Sábados y Domingos de 10hs a 18hs en F. Roosevelt 5640.Teléfonos:  15- o 15- o fijo Edificio: Importante Torre de 18 pisos con Amenities; Cocheras para inversión. Unidades de 2- 3 y 4 ambientes.\"VISITANOS, YA FALTA MENOS PARA QUE ESTE SUEÑO SEA UNA REALIDAD\".“Las imágenes publicadas son meramente ilustrativas”                                                                                                                                                                                                                                                                                                                                                                                                                                                                                                                                                                                                                                                                                                                                                                                                                                                                                                                                                                                                                                                                                                                                                                                                                                                                                                                                                                                                                                                                                                                                                                                                                                                                                                                                                                                                                                                                                                                                                                                                                                                                                                                                                                                                                                                                                       38\n",
       "Torre Giga se ubica a pasos de las Avenidas Triunvirato y Avenida de Los Incas, en Avenida Combatientes de Malvinas 3023, entre Chorroarín y Girardot. A sólo 3 cuadras de la Estación \"De los Incas\" – Parque Chas y 5 cuadras de la Estación \"Tronador\" – Villa Ortuzar, ambas Estaciones del Subte Línea \"B\". Un Área de la Ciudad con una excelente conectividad y un enorme potencial inmobiliario: Garantía de Revalorización de tu Inversión.Torre Giga cuenta con un importante hall de acceso, dos amplios ascensores de última generación con capacidad para 8 personas y 10 pisos en tipologías de 2 y 3 ambientes, todas ellas rodeadas de largos balcones, con vistas abiertas a la Ciudad y al verde.Torre Giga cuenta, además, con ambientes amplios y externos, cómodas cocinas, baños completos y toilettes, dormitorios en suite, cocheras y bauleras en subsuelo y amenities: pileta, solarium, gimnasio, parrilla, sauna y SUM; en sus pisos superiores.En las distintas unidades de Torre Giga encontraras: pisos melamínicos de 9 mm de alta calidad en roble en living y dormitorios, preinstalación para splits, muebles de cocina en melamina con cajoneras, guardado y espacio para microondas, barras divisoras con mesada de granito y mueble de guardado inferior, horno y anafe electrónico marca Longvie, placards con frente espejado de piso a techo con interiores en melamina blanca, interiores de vestidores en melamina blanca con barrales, guarda zapatos, cajoneras y estantes, y mesada de baños en granito con bacha de apoyar de diseño.Pensando en vos, Torre Giga contara con Wi-Fi en espacios comunes, cabina con personal de seguridad las 24 horas, cámaras de seguridad ubicadas estratégicamente en todo el edificio y grupo electrógeno que te asegurará la continua provisión de energía eléctrica en ascensores, iluminación vigía en cocheras y palieres, escaleras, lobby, puesto de vigilancia y CCTV, además de una línea de emergencia en tu unidad.Y todo esto en el marco de Expensas Mensuales Muy Razonables!Di Mitrio InmobiliariaAv. Martin Garcia 560 - Carlos Calvo 691 - 20 de Septiembre 314 -                                                                                                                                                                                                                                                                                                                                                                                                                                                                                                                                                                                                                                                                                                             38\n",
       "Torre de 18 pisos con unidades de 1, 2, 3 y 4 ambientes en importante terreno de 1.500 m2 con seguridad 24hs y hall de entrada en doble altura. Excelentes departamentos con grandes ventanales, vistas abiertas, gran luminosidad y balcón terraza. Detalles de categoría y confort. Piscina en el piso 18 con vista panorámica, Sala de estar con Mirador, Solarium, Gym, Sum, Laundry y Salón para niños.  Apto profesionalUbicación privilegiada por el nuevo viaducto de la Línea San Martín, obra que elevará las vías del tren generando nuevas zonas verdes, mayor conectividad con los barrios cercanos y notables mejoras en la fluidez del tránsito y en la seguridad vial.                                                                                                                                                                                                                                                                                                                                                                                                                                                                                                                                                                                                                                                                                                                                                                                                                                                                                                                                                                                                                                                                                                                                                                                                                                                                                                                                                                                                                                                                                                                                                                                                                                                                                                                                                                                                                                                                                                                                                                                                                                                                                                                                                                                           38\n",
       " - Publicado a traves de VisualGestion -                                                                                                                                                                                                                                                                                                                                                                                                                                                                                                                                                                                                                                                                                                                                                                                                                                                                                                                                                                                                                                                                                                                                                                                                                                                                                                                                                                                                                                                                                                                                                                                                                                                                                                                                                                                                                                                                                                                                                                                                                                                                                                                                                                                                                                                                                                                                                                                                                                                                                                                                                                                                                                                                                                                                                                                                                                         37\n",
       "Venta de Departamento MONOAMBIENTE en San Cristobal-DESCRIPCIÓN:-EXCELENTES MONOAMBIENTES DE 10M DE FRENTE POR 4M DE FONDO.-VENTANALES DE PISO A TECHO. -BALCON.-TERMINACIONES DE CATEGORÍA. -OPCIONALES CON COCHERAS FIJAS DESDE $376.000 (DESCUBIERTAS) , Y $438.000 (CUBIERTAS).-TERRAZA CON SOLARIUM Y PARRILLA. -  - LOUNGE PROPIEDADES                                                                                                                                                                                                                                                                                                                                                                                                                                                                                                                                                                                                                                                                                                                                                                                                                                                                                                                                                                                                                                                                                                                                                                                                                                                                                                                                                                                                                                                                                                                                                                                                                                                                                                                                                                                                                                                                                                                                                                                                                                                                                                                                                                                                                                                                                                                                                                                                                                                                                                                                     36\n",
       "OPORTUNIDAD DE COMPRA en 60 MINI-CUOTAS Mensuales y 8 Refuerzos Semestrales desde $ 11.000 al mes, y posesión en DICIEMBRE 2017 (a los 30 meses).OPORTUNIDAD: LANZAMIENTO EXCLUSIVO EDIFICIO CEIBOS- ANTICIPO FLEXIBLE Y 60 MINI CUOTAS DESDE $ 11.000.- AL MES.- PLAN ESPECIAL PARA INVERSORES CON CUOTAS POST-ENTREGA.- LOS DEPARTAMENTOS DE EDIFICIO CEIBOS SON ESCRITURABLES.DEPARTAMENTOS DE 1, 2, 3 Y 4 AMBIENTESCivis Tortugas está emplazado en una ubicación estratégica en Zona Norte, en la bajada del KM. 37,5 de la ruta Panamericana, ramal Pilar, en la misma bajada del Tortugas Country Club, sobre la calle Santa Rosa. Esta zona conocida como Tortugas Norte, se presenta como una ubicación ideal, rodeada de colegios, centros comerciales, barrios privados y countries, con un acceso privilegiado y que ha tenido un excepcional desarrollo durante los últimos años.Civis Tortugas Norte está desarrollado sobre una manzana y posee más de 10.000 m2 con área verde y espacios comunes. Presenta unidades del tipo “Studio” como así también departamentos de 1, 2, 3 y 4 ambientes, incluyendo “Penthouses”. Actualmente hay 2 de los 5 módulos previstos ya terminados y habitados, todos con cocheras subterráneas.Entre los amenities cuenta con piscina climatizada, laundry, un excelente SUM (Salón de Usos Múltiples), comedor, parrilla y cocina. Tiene un excepcional gimnasio con sauna y sala de relax; club para menores y más.Seguridad.a) Se Reserva Unidad con $ 20.000.- por hasta 10 días corridos, hasta la suscripción del Contrato de Adhesión al Fideicomiso.b) El 20% del Valor de Adhesión al inicio se puede abonar en pesos ar o dólares billetes, pero es el \"Valor Fijo en dólares de Tabla\", o su equivalente en pesos al día de pago.c) Costo Actuación del Fiduciario: Se cobra adicional 1% del Valor de la Unidad a la adhesión, y se integra otro 1% del Valor a lo largo de las Cuotas. Este 1% está ya incluido en Tabla de Precios.d) Los Valores de las Cuotas se actualizan mensualmente según Indice de la Cámara Arg. de la Construcción.e) Cuotas de Post-Posesión: Se le adicionará un Interés del 6 % anual sobre saldo de deuda. No incluido en el Valor de la Cuota, según Tablas.f) No incluye el Honorario de Broker Inmobiliario: 4 % más IVA, a pagar por el Comprador Fiduciante al momento de adherirse al Fideicomiso.g) Todas las Unidades se entregan con una COCHERA CUBIERTA asignada, incluida en el Precio del Depto.                                                                                                                                                                                                                                                                                                                                                                      35\n",
       "SAAVEDRA 1150 HEMOSA, AMPLIA Y UNICA CASA EN 3 PLANTAS 10 AMBIENTES, 8 BAÑOS, PATIO, TERRAZA Y COCHERA, 500 mts2 U$S 479.000? LINK VIDEO: http:// Link con mas fotos de la propiedad: http:// HEMOSA, AMPLIA Y UNICA CASA EN 3 PLANTAS 10 AMBIENTES, 8 BAÑOS, PATIO, TERRAZA Y COCHERA, 500 mts2 U$S 479.000 Sobre calle Saavedra 1150, entre Av. San Juan y Cochabamba CONSIDERAMOS UNICA, POR TAMAÑO, DISTRIBUCION, Y UBICACIÓN IDEAL FAMILIA NUMEROSA O USO COMERCIAL, HOSTEL, HOTEL, RESTAURANT, BAR, COMPLEJO TURISTICO ETC LOTE PROPIO, SIENDO APTO FOT 8, AL LADO SE CONSTRUYO UN EDIFICIO DE 8 PISOS SOBRE UNA PROPIEDAD IGUAL A ESTA COSNTRUIDA CON MATERIALES DE CATEGORIA Y CALIDAD, PISOS EN MADERA PINOTEA, Y PISOS TARUGADOS DE VIRAPITA, AMPLIAS ABERTURAS CON VENTANALES DE VIDRIO REPARTIDO CON CELOSIA ESCALERAS Y BARANDAS EN MADERA AMOBLAMIENTO DE COCINA DE PRIMERA CALIDAD Es una propiedad con una decoración tradicional, autentica y autóctona, esta se puede apreciar en las fotografías y en el video Se puede dejar la decoración o retirar todo a pedido del comprador, si lo fuera para rubro comercial es ideal ya que consta de 10 habitaciones, oficinas, 8 baños, balcones, dos escaleras de acceso al primer piso y segundo piso Habitaciones en suite, con patio y balcón Cocina amplia con excelente amoblamiento a medida, con islas giratorias en las esquinas, mueble porta microondas y cocina, con bodega e iluminación En el comedor se encuentra instalada una parrilla con extracción a los 4 vientos y una bodega para 500 botellas Sugerimos para poder apreciar lo descripto solicitar una entrevista y una visita personalmente PLANTA BAJA: COCHERA LIVING COMEDOR BAÑO COCINA LAVADERO HABITACION DE SERVICIO CON BAÑO PRIVADO PATIO PRIMER PISO HABITACION CON BAÑO EN SUITE CON VENTANA AL FRENTE OFICINA SEGUNDO PISO: EDIFICACION AL FRENTE: HABITACION CON BAÑO EN SUITE CON VENTANA AL FRENTE HABITACION CON BAÑO EN SUITE CON VENTANA AL FRENTE HABITACION CON BAÑO EN SUITE EDIFICACION TRASERA: HABITACION CON BAÑO EN SUITE CON BALCON HABITACION CON BALCON HABITACION INDEPENDIENTE CON BAÑO EN SUITE DEPOSITO La zona es muy tranquila y segura, esta ubicado a 1/2 cuadra de Av. San Juan, a 1 cuadra de Av. Jujuy, a 4 cuadras de Av. Juan De Garay. EL VALOR ES DE U$S 479.000 TOMAMOS PROPIEDADES EN PARTE DE PAGO PARA COMBINAR UNA VISITA AL INMUEBLE SOLO DEBE COMUNICARSE POR TELEFONO. DALLE NOGARE PROPIEDADES Av. DIRECTORIO 2732, CAPITAL FEDERAL TEL/FAX:  CELULAR: 15 / 8050                                                                                                                                                                                                                                                                                                                      34\n",
       "Unidad en espectacular Fideicomiso Altos de Rincón Consulte disponibilidades y formas de pago.                                                                                                                                                                                                                                                                                                                                                                                                                                                                                                                                                                                                                                                                                                                                                                                                                                                                                                                                                                                                                                                                                                                                                                                                                                                                                                                                                                                                                                                                                                                                                                                                                                                                                                                                                                                                                                                                                                                                                                                                                                                                                                                                                                                                                                                                                                                                                                                                                                                                                                                                                                                                                                                                                                                                                                                   33\n",
       "Edificio ubicado en esquina cuya unidades dan al frente  . Super luminoso . La unidades son apto profesional y comercial . A pasos de AV Corrientes , proximo al barrio de Palermo                                                                                                                                                                                                                                                                                                                                                                                                                                                                                                                                                                                                                                                                                                                                                                                                                                                                                                                                                                                                                                                                                                                                                                                                                                                                                                                                                                                                                                                                                                                                                                                                                                                                                                                                                                                                                                                                                                                                                                                                                                                                                                                                                                                                                                                                                                                                                                                                                                                                                                                                                                                                                                                                                               33\n",
       "Con la impronta que le otorgan los canales de televisión, productoras y radios de la zona, Palermo Hollywood es uno de los barrios más chic de Buenos Aires. Polo gastronómico, concentra además unagran cantidad de tiendas de diseño y objetos de autor. Una de las zonas más cosmopolitas y modernas de nuestra ciudad. El Edificio: 10 pisos, 32 UF de 1 ambiente todas externas y con balcón, gran local comercial con patio exterior. Amenities: amplio sector de parrillas totalmente equipadas, S.U.M. con conexión exterior, Solarium con deck, Jacuzzi exterior en roof garden, Laundry. Forma de Pago: Terreno a la firma del boleto, Construcción hasta en 28 cuotas convertible a pesos el día de la firma, ajustable por CAC con base vigente a la fecha de firma del boleto.                                                                                                                                                                                                                                                                                                                                                                                                                                                                                                                                                                                                                                                                                                                                                                                                                                                                                                                                                                                                                                                                                                                                                                                                                                                                                                                                                                                                                                                                                                                                                                                                                                                                                                                                                                                                                                                                                                                                                                                                                                                                                      33\n",
       "Link Towers será un complejo único por sus vistas al dique, diseño de vanguardia y servicios equivalentes a los de un hotel de lujo. La torre se elevará 29 pisos, con departamentos de dos y tres ambientes y 5 penthouses en las últimas plantas, todos ellos con lujosos detalles de terminación. Además, ofrecerá en su frente, sobre el dique, las primeras casas privadas en Puerto Madero: espaciosos town-houses de 3 niveles más terraza, muy luminosos y con vistas únicas al agua.Link Towers combinará estilos clásicos y vanguardistas con recursos tecnológicos de última generación, y tendrá amenities pensados tanto para el confort de sus propietarios como para el placer de sus visitantes.Contará con piscina in & out, Spa & Health Club, Fireplace, Restó, Pool Bar, circuitos de arte digital y seguridad 24hs., entre otros servicios.La obra comenzará en diciembre próximo y se prolongará a lo largo de 30 meses.The Link Towers nace en el Dique 1 de Puerto Madero y ofrece la experiencia única de vivir frente al agua, con vistas espectaculares de la ciudad de Buenos Aires.Presenta dos fachadas principales, con orientación al Río de la Plata y a la ciudad de Buenos Aires, que crean un distintivo contorno dentro del skyline porteño.Exclusivas Townhouses privadas frente al dique, marcando así una nueva forma y estilo de vida en la ciudad de Buenos Aires.Jardines verticales, columnas espejadas y ambientaciones digitales son algunos de los factores que hacen que la experiencia. Presenta un pasillo central que conecta todas sus áreas. Sus cielorrasos espejados con diseño orgánico y su particular iluminación buscan cautivar el ojo de sus residentes y visitantes.                                                                                                                                                                                                                                                                                                                                                                                                                                                                                                                                                                                                                                                                                                                                                                                                                                                                                                                                                                                                                                                                                                                                               32\n",
       "Entrega Marzo 2019Forma de pago 50% y 22 cuotas, posibilidad de pago en pesos con ajuste CAC.Especificaciones técnicas de los departamentos CocinaPiso: Porcellanato a designar.Pared: Porcellanato a designar y/o yeso.Cielorraso: Suspendido de placas de yeso pintado al latex.Zócalo: de MDF pintado blanco.Mesada: Granito gris mara.Bacha: Acero inoxidable. Grifería: FV mono comando o similar.Artefactos de cocina: horno eléctrico y anafe eléctrico de acero inoxidable de primera marca.Mueble de cocina: Enchapado en melanina con herrajes de aluminio.Baño Piso:  Porcellanato a designar.Pared: Porcellanato a designar.Guarda: lleva. Modelo a designar.Grifería: FV o similar.Artefactos: Furrum Bari blanco o similar.Mesada: Mármol o granito a designar. Bañera: Enlosada Ferrum o similar.Accesorios: Cromados de atornillar.Estar/dormitorio: Piso: Piso de madera natural o ingenieril,  modelo y tipo de colocación  a designar.Pared: Yeso pintado al latex. Cielorraso: Aplicado de yeso pintado al latex.Zócalo: de MDF pintado blanco.Balcón: Piso: cerámico a designar.Agua caliente: sistema “central”.Calefacción: Mediante sistema “split” frio/ calor.Amenities: TerrazaPiscina: con sistema completo de filtrado e iluminaciónDeck de hormigón pre moldeado en sector piscina.Equipado con reposerasSalón de usos múltiplesPiso: Porcellanato a designar.Parrilla.Equipamiento de cocina completa: electrodomésticos, vajilla y utensilios.Mesa y sillas.Aire acondicionado.TV.- CUCICBA Mat 475                                                                                                                                                                                                                                                                                                                                                                                                                                                                                                                                                                                                                                                                                                                                                                                                                                                                                                                                                                                                                                                                                                                                                                                                                                                                                                                                              32\n",
       "VENTA DEPARTAMENTO 2 AMBIENTES SAN TELMOUnidad  de 2 ambientes con balcón, ubicada sobre Av. Garay a 2 cuadras de Av. San Juán y autopista. Acceso a líneas de colectivo y subte. Consta de living-comedor, dormitorio en suite  con salida al balcón y cocina integrada equipada con mobiliario, mesada de granito, bacha de acero inoxidable, horno y anafe. El edificio cuenta con cocheras, parrilla, piscina, solarium, SUM, gimnasio y laundry.LEPORE PROPIEDADES  LEPORE Propiedades S.A.CUIT : 33-60234274-9C.U.C.I.C.B.A. Matrícula Nº 931 (Sucursales Caballito - Palermo - Centro)AVISO LEGAL: Las descripciones arquitectónicas y funcionales, valores de expensas, impuestos y servicios, fotos y medidas de este inmueble son aproximados. Los datos fueron proporcionados por el propietario y pueden no estar actualizados a la hora de la visualización de este aviso por lo cual pueden arrojar inexactitudes y discordancias con las que surgen de los las facturas, títulos y planos legales del inmueble. El interesado deberá realizar las verificaciones respectivas previamente a la realización de cualquier operación, requiriendo por sí o sus profesionales las copias necesarias de la documentación que corresponda.Venta supeditada al cumplimiento por parte del propietario de los requisitos de la resolución general Nº 2371 de la AFIP (pedido de COTI) -  - LEPORE PROPIEDADES                                                                                                                                                                                                                                                                                                                                                                                                                                                                                                                                                                                                                                                                                                                                                                                                                                                                                                                                                                                                                                                                                                                                                                                                                                                                                                                                                                                                                                                              31\n",
       "                                                                                                                                                                                                                                                                                                                                                                                                                                                                                                                                                                                                                                                                                                                                                                                                                                                                                                                                                                                                                                                                                                                                                                                                                                                                                                                                                                                                                                                                                                                                                                                                                                                                                                                                                                                                                                                                                                                                                                                                                                                                                                                                                                                                                                                                                                                                                                                                                                                                                                                                                                                                                                                                                                                                                                                                                                                                                 ..\n",
       "Venta de Casa 2 AMBIENTES en Parque Leloir, Ituzaingó  Gran quincho todo  vidriado con mesada de mármol, muebles modernos de bajo y sobre mesada. Barra desayunadora  con  luces, pisos de cerámica, baño completo con vanitori.  Dormitorio con  placard. Aire frío/ calor Afuera otro baño  para la pileta. Pileta con borde atermico. G TAVELLA  -  - G. TAVELLA                                                                                                                                                                                                                                                                                                                                                                                                                                                                                                                                                                                                                                                                                                                                                                                                                                                                                                                                                                                                                                                                                                                                                                                                                                                                                                                                                                                                                                                                                                                                                                                                                                                                                                                                                                                                                                                                                                                                                                                                                                                                                                                                                                                                                                                                                                                                                                                                                                                                                                               1\n",
       "Casa americana en lote de 8.66 x 19  planta baja  living de 5 x 3 cocina comedor nueva de 4.50 x 6  tres dormitorios de 4 x 3.50 dos de ellos comunicados piso parquet plastificado  dos banos uno de ellos a nuevo patio 4 x 4 y garage cubierto planta alta quincho 4.60 x 6 con cocina y terraza 8 x 8  - Publicado a traves de VisualGestion -                                                                                                                                                                                                                                                                                                                                                                                                                                                                                                                                                                                                                                                                                                                                                                                                                                                                                                                                                                                                                                                                                                                                                                                                                                                                                                                                                                                                                                                                                                                                                                                                                                                                                                                                                                                                                                                                                                                                                                                                                                                                                                                                                                                                                                                                                                                                                                                                                                                                                                                                1\n",
       "Importante casa, de excelente  nivel constructivo y diseño inigualable  en el alto de MartínezLocalizada en una cuadra única de la zona, rodeada de un pulmón de manzana.Desarrollada en cuatro plantas.Hall con placard de invitados, living  con hogar y comedor.Muebles hechos a medida con un excelente diseño. Pisos tarugados en impecable estado.Cocina súper equipada, moderna y luminosa, con mucho espacio de guardado,  barra central, además de un espacio de comedor diario  muy acogedor y luminoso.Precioso jardín con terraza, parrilla, quincho y pileta.En la segunda  planta 4 dormitorios todos en suite,  la suite principal con vestidor, escritorio y jacuzzi.Todos los dormitorios son de muy buen tamaño, con muy buenos placares y   muebles hechos a medida de excelente  diseño.En la tercera planta un  playroom muy grande con gimnasio, estudio y living, además de   otros 2  dormitorios que comparten baño.En el subsuelo se encuentran la cochera para 4 autos, depósito, lavadero y dependencia de servicio con baño.Persianas barrio,  Calefacción por radiadores y AC en todos los ambientes.La casa cuenta con grupo electrógeno a gas, 2  bombas de achique, dos tanques de agua, bomba presurizadora, caldera, dos thermotanques::  D'Aria  ::    ::    ::                                                                                                                                                                                                                                                                                                                                                                                                                                                                                                                                                                                                                                                                                                                                                                                                                                                                                                                                                                                                                                                                                                                                                                                                                                                                                                                                                                                                                                                                                                                                                                               1\n",
       "VENTA DE CASA MULTIFAMILIAR.1) CASA 2 AMBIENTES. PLANTA BAJA AL FRENTE. LIVING CON PISOS DE GRANITO (4.00 X 5.00). COMEDOR CON PISOS DE GRANITO (3.00 X 6.20). COCINA CON MUEBLES ALTOS Y BAJOS (3.00 X 3.80). BAÑO.  DORMITORIO CON PISOS DE PARQUET (3.80 X 4.00). GARAJE PARA UN AUTO. ESTADO BUENO. GAS COMPARTIDO. ESTUFAS. GALPON O LAVADERO CUBIERTO (2.00 X 3.00) . 2) DEPARTAMENTO DE 2 AMBIENTES. EN PLANTA ALTA AL FRENTE. COCINA (3.20 X 4.00) CON MUEBLES ALTOS Y BAJOS. HALL DISTRIBUIDOR (1.00 X 2.00) BAÑO. DORMITORIO CON PISOS CERAMICOS Y PLACARD. LAVADERO EN COCINA. BALCON (1.00 X 8.00). PATIO AL FRENTE (3.00 X 4.00). ESTUFAS. POR ESCALERA. ESTADO BUENO.3) DEPARTAMENTO EN PLANTA BAJA: 3 AMBIENTES CON TERRAZA. ESTADO BUENO.LAS MEDIDAS SON APROXIMADAS Y DADAS POR EL PROPIETARIO. -  - PABLO YARYURA PROPIEDADES                                                                                                                                                                                                                                                                                                                                                                                                                                                                                                                                                                                                                                                                                                                                                                                                                                                                                                                                                                                                                                                                                                                                                                                                                                                                                                                                                                                                                                                                                                                                                                                                                                                                                                                                                                                                                                                                                                                                                                                                                                   1\n",
       "El inmueble se encuentra en buen estado, se encuentra ubicado en un edificio antiguo muy bien mantenido. Hall de entrada, living, comedor, escritorio, distribución por pasillo, dormitorio principal con baño en suite, baño completo, dormitorio, cocina y sobre la cocina entrepiso/baulera.                                                                                                                                                                                                                                                                                                                                                                                                                                                                                                                                                                                                                                                                                                                                                                                                                                                                                                                                                                                                                                                                                                                                                                                                                                                                                                                                                                                                                                                                                                                                                                                                                                                                                                                                                                                                                                                                                                                                                                                                                                                                                                                                                                                                                                                                                                                                                                                                                                                                                                                                                                                   1\n",
       "AMPLIO Y CONFORTABLE PH en Primer Piso por escalera, ubicado en Valentin Alsina , sobre calle Veracruz al 1800. CONSTA de : Amplio LIVING-COMEDOR AL FRENTE CON BALCON CORREDOR. DORMITORIO PPAL AL FRENTE C/PLACARD Y BALCON. BAÑO PPAL COMPLETO. DORMITORIO C/ PLACARD. COCINA-COMEDOR DIARIO DE AMPLIAS DIMENSIONES. PATIO INTERNO. PLAYROOM O TERCER DORMITORIO. 2DO BAÑO. LAVADERO CUBIERTO . TERRAZA DE 135 M2 QUINCHO CON COCINA . PARRILLA VISTA ABIERTA Y PANORAMICA. MUY LUMINOSO. SIN EXPENSAS. CUBIERTOS 122 M2 -DESCUB 135 M2 -TOTAL 257 M2. ----CONCERTAR ENTREVISTA-----                                                                                                                                                                                                                                                                                                                                                                                                                                                                                                                                                                                                                                                                                                                                                                                                                                                                                                                                                                                                                                                                                                                                                                                                                                                                                                                                                                                                                                                                                                                                                                                                                                                                                                                                                                                                                                                                                                                                                                                                                                                                                                                                                                                                                                                                                           1\n",
       "                Amplio monoambiente con dormitorio y baño completo. Living grande y balcon. Cocina equipada, con blindex divisorio. Techo de doble altura, apto para entrepiso. Aire central, y totalmente amoblado si se lo desea, cortinados  blackout. Cuenta con cochera, laundry y pileta.                                                                                                                                                                                                                                                                                                                                                                                                                                                                                                                                                                                                                                                                                                                                                                                                                                                                                                                                                                                                                                                                                                                                                                                                                                                                                                                                                                                                                                                                                                                                                                                                                                                                                                                                                                                                                                                                                                                                                                                                                                                                                                                                                                                                                                                                                                                                                                                                                                                                                                                                                                                   1\n",
       "CODIGO: 2388-LLG1082 ubicado en: Avellaneda 2064 -  Publicado por: LUIS LORAY NEGOCIOS INMOBILIARIOS. El precio es de USD 145000 null. Avellaneda N°2064 entre España y Falucho. Superficie total 207m2. Comodidades: Living comedor con hogar y pisos de mosaicos, comedor diario y cocina totalmente amueblada. Además cuenta con un dormitorio con pisos flotante y placards, baño y lavadero. Planta Alta: dos dormitorios con baño. La propiedad cuenta con patio con pileta y garage que puede modificarse para quincho.  Luis Loray Negocios Inmobiliarios /  . Publicado a través de Mapaprop                                                                                                                                                                                                                                                                                                                                                                                                                                                                                                                                                                                                                                                                                                                                                                                                                                                                                                                                                                                                                                                                                                                                                                                                                                                                                                                                                                                                                                                                                                                                                                                                                                                                                                                                                                                                                                                                                                                                                                                                                                                                                                                                                                                                                                                                             1\n",
       "Venta Departamento 2 Ambientes en Pozo – CiudadelaExcelente unidad en Edificio de 8 pisos con Cocheras en Planta BajaUnidades \"A\" y \"B\": FrenteUnidades \"C\" y \"D\": ContrafrenteDetalles:Acceso a Living comedor con ventilación natural al exterior mediante balcón.Cocina integrada completa amoblada en altos y bajos en melanina con detalles de aluminio.Mesada de mármol gris mara, bacha de acero inoxidable, griferías fvRevestimientos cerámicos en paredes, pisos cerámicos, cocina de acero inoxidable.Dormitorio con Placard Empotrado Completo y pisos flotantes. Ventilación natural al exterior.Baño Completo con Bañera enlosada, revestimientos cerámicos en pisos y paredes. Griferías fv.BalcónPuertas en cedro, Aberturas en AluminioConsulte Disponibilidad de Cocheras                                                                                                                                                                                                                                                                                                                                                                                                                                                                                                                                                                                                                                                                                                                                                                                                                                                                                                                                                                                                                                                                                                                                                                                                                                                                                                                                                                                                                                                                                                                                                                                                                                                                                                                                                                                                                                                                                                                                                                                                                                                                                       1\n",
       "SEMIPISO 2 AMBIENTES EN VENTAComplejo conformado por dos torres de excelente calidad constructiva. Una de los mas lindos y solidos espacios de Saenz Peña. Cercano a medios de transporte, a 3 cuadras de la estacion Santos Lugares del FCC San Martin, colegios y clubes deportivos, en la tranquilidad de un entorno residencial. En septimo piso se vende semipiso a nuevo de 2 ambientes amplios. Living comedor con cocina integrada totalmente equipada. Aire acondicionado frio-calor. Balcon con vista abierta y espacioso. permite poner mesa y sillas. posee gran ventanal corredizo y hermosa vista abierta.Mesada de granito, extractor, espaciosas alacenas y muebles bajo mesada, cocina a gas y espacio para heladera y lavarropas con puerta bajo mesada. Super luminoso y con ventilación cruzada.Dormitorio principal con placard de puertas corredizas, piso flotante a nuevo y aire acondicionado frio-calor.Posee Baño completo totalmente revestido en ceramicas muy moderno.En el último piso, cada torre posee amenities para uso privado. Dos parrillas independientes, solarium con deck de madera, hermosa vista abierta en toda la terraza, SUM cubierto con baño, cocina, tv, aire acondicionado y espacio para eventos. Además, en un costado posee piletas de lavado y tender para colgar la ropa en la terraza. OPCION A COCHERAS CUBIERTAS Y DESCUBIERTAS.Opcional Amoblado.Se deja constancia que los m2 son aproximados, al igual que las medidas parciales de los ambientes, y el valor consignado de las expensas esta sujeto a verificacion y/o ajustes, el precio del inmueble puede ser modificado sin previo aviso. Fotos de caracter no contractual.WERBA PROPIEDADES -  -  - JULIO J. WERBA PROPIEDADES                                                                                                                                                                                                                                                                                                                                                                                                                                                                                                                                                                                                                                                                                                                                                                                                                                                                                                                                                                                                                                                                                                                               1\n",
       "Excelente departamento de 2 ambientes. Living y comedor con salida a amplia terraza. Orientacion Este. Cocina americana con horno y anafe electrico, espacio para lavaropa/lavavajilla. 1 dormitorio en suite con vestidor. Aire accondicionado frio /calor. Carpinteria de aluminio piso a techo. Pisos de porcelanatto beige. Circuito cerrado de television. Baulera n° 39. Cochera n°56Amenities:•\\tPileta climatizada •\\tGym y Health club•\\tSalón de usos múltiples(SUM)•\\tPlaza en altura con juegos para chicos•\\tLaundry•\\tDoble acceso peatonal y vehicular•\\tSeguridad 24 hrs                                                                                                                                                                                                                                                                                                                                                                                                                                                                                                                                                                                                                                                                                                                                                                                                                                                                                                                                                                                                                                                                                                                                                                                                                                                                                                                                                                                                                                                                                                                                                                                                                                                                                                                                                                                                                                                                                                                                                                                                                                                                                                                                                                                                                                                                                          1\n",
       "Superficie de terreno 1250 mtsSup. Cubierta 500 mtsDormitorios 4Plantas 2La casa estilo italiano, diseñada y construida por Shilton, esta ubicado en un lote a orillas del Lago.PB: hall de recepcion. Escritorio o Sala de Cine. Gran Living con hogar. Amplio Comedor. Family con salida a la galeria y jardin. Cocina con gran isla central. Lavadero. Dependencia de Servicio con Baño. En PA: Dormitorio Principal con Vestidor y Baño compartimentado con ducha y Jacuzzi. Dos Dormitorios que comparten un baño y un suite junior con baño propio.Excelentes detalles de terminacion. Jardin increible con parquizacion y Pileta. Muelle.Riego automatico. AA por Splits. Calefaccion por Piso Radiante.Una cochera cubierta y dos  su nombre lo indica, todo el territorio de este barrio se encuentra emplazado en las vastas aguas del Lago Central.Con predominancia de lotes que dan al agua y amplios espacios verdes, constituyen el 40 % del barrio, La Isla ofrece el ámbito ideal para los amantes de la intimidad y la vida tranquila. Su infraestructura social y deportiva está formada por un amplio Club House, una plaza de juegos y 4 canchas de tenis.LOTES DE 1000 A 5000M2 RODEADOS DE ESPEJOS DE AGUA. LAGO CENTRAL DE 180HAS IDEAL PARA LA PRACTICA DE DEPORTES NAUTICOS.                                                                                                                                                                                                                                                                                                                                                                                                                                                                                                                                                                                                                                                                                                                                                                                                                                                                                                                                                                                                                                                                                                                                                                                                                                                                                                                                                                                                                                                                                                                                                                            1\n",
       "CODIGO:  ubicado en: Boatti 900 -  Publicado por: ADRIANA CORONEL ESTUDIO INMOBILIARIO. El precio es de USD 300000 null. Impecable casa sobre amplio lote, antigüedad 12 años, excelente calidad y diseño. Posee cochera para dos autos en paralelo, portones automáticos, calefacción por radiadores y split en cada habitación. Aberturas con doble vidrio, aislante frió/calor y ruidos, alarma integral, riego automatizado. Recepción, living comedor, hall de distribución, toillet, cocina comedor diario, lavadero con toillet compartimentado con el quincho. Galería / quincho en \"L\", parque, deck, pileta, cuarto guarda útiles. Primer piso tres dormitorios y uno en suite, baño principal, tercer nivel playroom.- . Publicado a través de Mapaprop                                                                                                                                                                                                                                                                                                                                                                                                                                                                                                                                                                                                                                                                                                                                                                                                                                                                                                                                                                                                                                                                                                                                                                                                                                                                                                                                                                                                                                                                                                                                                                                                                                                                                                                                                                                                                                                                                                                                                                                                                                                                                                                1\n",
       "LOS LAGOS 222 Imponente casa en 3 plantas - 320 mc Terreno 640 mc Diseño de líneas muy modernas A estrenar, terminada, lista para vestir y decorar Esmerada construcción y materiales de primera Pileta con solárium y escalera romana Gran parque sin vecinos al fondo, contra frente a área libre parquizada Parrilla con cerramiento Riego automatizado Matriculado:Luciana JumeroskyCMCPSI 6004                                                                                                                                                                                                                                                                                                                                                                                                                                                                                                                                                                                                                                                                                                                                                                                                                                                                                                                                                                                                                                                                                                                                                                                                                                                                                                                                                                                                                                                                                                                                                                                                                                                                                                                                                                                                                                                                                                                                                                                                                                                                                                                                                                                                                                                                                                                                                                                                                                                                               1\n",
       "EXCELENTE SEMIPISO ,UBICADO EN BUENOS AIRES ENTRE ALTE  BROWN Y FALUCHO ,A 100MTS DE PLAZA COLON ,3 CUADRAS DEL SHOPPING ALDREY,CUENTA CON 3 CUARTOS, ,UN AMPLIO PATIO CON PARRILLA,3 BAÑOS,COCINA ,LAVADERO, HORARIO DE ATENCIÓN LUN A VIER DE 9 a 12 y de  15 a 19HS. SABADOS DE 9 A 12HS.0223-491-5529 CEL 0223-15-694-6877 EXCELENTE SEMIPISO ,UBICADO EN BUENOS AIRES ENTRE ALTE  BROWN Y FALUCHO ,A 100MTS DE PLAZA COLON ,3 CUADRAS DEL SHOPPING ALDREY,CUENTA CON 3 CUARTOS, ,UN AMPLIO PATIO CON PARRILLA,3 BAÑOS,COCINA ,LAVADERO, HORARIO DE ATENCIÓN LUN A VIER DE 9 a 12 y de  15 a 19HS. SABADOS DE 9 A 12HS.0223-491-5529 CEL 0223-15-694-6877                                                                                                                                                                                                                                                                                                                                                                                                                                                                                                                                                                                                                                                                                                                                                                                                                                                                                                                                                                                                                                                                                                                                                                                                                                                                                                                                                                                                                                                                                                                                                                                                                                                                                                                                                                                                                                                                                                                                                                                                                                                                                                                                                                                                                     1\n",
       "LOCAL EN VENTA CENTRO. Oportunidad buena obicacion Aviso publicado por Pixel Inmobiliario (Servicio de Páginas Web para Inmobiliarias).                                                                                                                                                                                                                                                                                                                                                                                                                                                                                                                                                                                                                                                                                                                                                                                                                                                                                                                                                                                                                                                                                                                                                                                                                                                                                                                                                                                                                                                                                                                                                                                                                                                                                                                                                                                                                                                                                                                                                                                                                                                                                                                                                                                                                                                                                                                                                                                                                                                                                                                                                                                                                                                                                                                                           1\n",
       "Departamento de categoría tipo casa de 2 ambientes en planta baja en contrafrente. Posee cocina comedor con muebles de melanina, mesada de granito, alacenas, artefacto de cocina de acero inoxidable, comedor ampio, dormitorio con placard y espejo, piso flotante. Baño completo con hidromasaje.                                                                                                                                                                                                                                                                                                                                                                                                                                                                                                                                                                                                                                                                                                                                                                                                                                                                                                                                                                                                                                                                                                                                                                                                                                                                                                                                                                                                                                                                                                                                                                                                                                                                                                                                                                                                                                                                                                                                                                                                                                                                                                                                                                                                                                                                                                                                                                                                                                                                                                                                                                              1\n",
       "Casa de 4 ambientes , con garaje, patio, fondo y terraza en zona residencial de haedo.venta suspendida a la tramitacion del coti por parte del vendedor segun resolucion de afip. - Publicado a traves de VisualGestion -                                                                                                                                                                                                                                                                                                                                                                                                                                                                                                                                                                                                                                                                                                                                                                                                                                                                                                                                                                                                                                                                                                                                                                                                                                                                                                                                                                                                                                                                                                                                                                                                                                                                                                                                                                                                                                                                                                                                                                                                                                                                                                                                                                                                                                                                                                                                                                                                                                                                                                                                                                                                                                                         1\n",
       "Venta de Casa 4 AMBIENTES en SAN JOSE, Chascomús- OPCIÓN COMPRA CON LOTE LINDERO DE 202 MTS 2.-UBICADA EN EL BARRIO SAN JOSE MUY PROXIMA AL CENTRO ZONA RESIDENCIAL Y TRANQUILA A METROS DE LA LAGUNA, TODA EN UNA PLANTA, HOGAR A LEÑA EN LIVING COMEDOR, COCINA, 3 DORMITORIOS Y DOS BAÑOS, QUINCHO PARRILLA Y JARDIN. CALEFACCION ESTUFAS TIRO BALANCEADO. PREPARADA PARA CONSTRUIR SEGUNDO PISO. MUY BUENA DISTRIBUCIÓN- MUY BUENA LUZ -  - GUSTAVO NOVELLA PROPIEDADES                                                                                                                                                                                                                                                                                                                                                                                                                                                                                                                                                                                                                                                                                                                                                                                                                                                                                                                                                                                                                                                                                                                                                                                                                                                                                                                                                                                                                                                                                                                                                                                                                                                                                                                                                                                                                                                                                                                                                                                                                                                                                                                                                                                                                                                                                                                                                                                                       1\n",
       "Venta de Casa PH 4 AMBIENTES en Ramos MejíaAmplio PH de cuatro ambientes, cuenta en su planta alta con tres dormitorios, baño completo y terraza y en la planta baja living comedor, cocina comedor, baño completo, garaje y patio. Estado original, a mejorar. Excelente ubicación, a dos cuadras de Av. de  sujeta a la tramitación del COTI por parte del propietario, para dar acatamiento a la Resolución General de AFIP nro. 2371.RS ROSSO PROPIEDADES/1465 -  - ROSSO PROPIEDADES                                                                                                                                                                                                                                                                                                                                                                                                                                                                                                                                                                                                                                                                                                                                                                                                                                                                                                                                                                                                                                                                                                                                                                                                                                                                                                                                                                                                                                                                                                                                                                                                                                                                                                                                                                                                                                                                                                                                                                                                                                                                                                                                                                                                                                                                                                                                                                                         1\n",
       "Departamento en VENTA, en Las Cavas.  Este hermoso complejo ubicado en Canning, que cuenta con un excelente acceso. Es uno de los complejos mas lindos de la zona de Canning, ubicado a solo 10 minutos de la autopista Ezeiza- Cañuelas. CONSULTENOS!!                                                                                                                                                                                                                                                                                                                                                                                                                                                                                                                                                                                                                                                                                                                                                                                                                                                                                                                                                                                                                                                                                                                                                                                                                                                                                                                                                                                                                                                                                                                                                                                                                                                                                                                                                                                                                                                                                                                                                                                                                                                                                                                                                                                                                                                                                                                                                                                                                                                                                                                                                                                                                           1\n",
       "Departamentos de 2, 3 y 4 Amb.Sum – piscina - solárium – laundry Cocheras y baulerasExclusivas terrazas privadasCONSULTE DISPONIBILIDAD VALORES Y FORMAS DE PAGOFecha de entrega: 08/2017EDIFICIO QUINTANA. Semipisos Luxury Boutique. Playa Grande. Un lugar que se distingue.En la ubicación mas requerida de la ciudad, a 2 cuadras de Playa Grande, y a metros del renovado centro comercial de calle Alem. Luminosas y espaciosas unidades, diseñadas para vivir con el confort que ofrece un emprendimiento de categoría absoluta. DEPARTAMENTOS DE 2, 3 Y 4 AMBIENTES. Impactantes balcones terraza. Amplitud Interior - Exterior. Unidades:2 ambientes de 53 mts2. 3 ambientes de 80 mts2. 4 ambientes de 108 mts2. Amenities: Sum. Piscina. Vestuarios y baños. Solarium. Laundry. Espacios verdes con diseño paisajístico y espejos de agua.Servicios Comunes: Camaras de seguridad. Acceso mediante control y portero eléctrico.Instalación contra incendios. Sistema de iluminación inteligente en paliers y zonas comunes. Iluminación de emergencia.Ascensores de ultima generación.Terminaciones en interiores: Porcelanato importado simil madera en halls y dormitorios. Porcelanato simil marmol en estares, comedores, cocinas y baños. Placares con interiores completamente terminados. Paredes divisorias de depto a depto aisladas con manta ISOVER. Cocinas y baños:Mesadas Corian. Alacenas: Marca REHAU - Rauvicio color Cubanite. Artefactos de cocina, hornos y anafes electricos marca ORBIS. Instalación para lavarropas o lavavajillas. Artefactos sanitarios Ferrum. Griferías monocomando FV. Carpinterias y aberturas:Puertas doble cierre en acceso principal.Puertas laqueadas en interiores. Carpinterias VEKA PVC Alemana. Herrajes de primera calidad marca HAFELE.                                                                                                                                                                                                                                                                                                                                                                                                                                                                                                                                                                                                                                                                                                                                                                                                                                                                                                                                                                                                                                                                        1\n",
       "CODIGO: 64 ubicado en: Gascon 600 -  Publicado por: SANTAMARIA NEGOCIOS INMOBILIARIOS. El precio es de USD 118000 null. Excelente departamento al frente en edificio de construcci�n de calidad superior. Ocho a�os de antig�edad. Muy luminoso por el frente y por el espacioso patio trasero. Monoambiente a la calle con salida a amplio balc�n corrido, ba�o y cocina integrada. Amplio y luminoso patio de 13 m2. Edificio con parrilla y laundry. Superficie: 46 m2 cubiertos construidos 4 m2 balcon y 13 m2 patio.  A metros de Av corrientes y gran cantidad de medios de transporte. A una cuadra del Hospital Italiano.  . Publicado a través de Mapaprop                                                                                                                                                                                                                                                                                                                                                                                                                                                                                                                                                                                                                                                                                                                                                                                                                                                                                                                                                                                                                                                                                                                                                                                                                                                                                                                                                                                                                                                                                                                                                                                                                                                                                                                                                                                                                                                                                                                                                                                                                                                                                                                                                                                                              1\n",
       "Muy lindo Departamento de un ambiente con balcon ubicado al contrafrente, con kitchenette y baño completo. Se encuentra en excelente estado de conservación. Muy luminoso!                                                                                                                                                                                                                                                                                                                                                                                                                                                                                                                                                                                                                                                                                                                                                                                                                                                                                                                                                                                                                                                                                                                                                                                                                                                                                                                                                                                                                                                                                                                                                                                                                                                                                                                                                                                                                                                                                                                                                                                                                                                                                                                                                                                                                                                                                                                                                                                                                                                                                                                                                                                                                                                                                                        1\n",
       "Gran departamento de 3 amb de categoría con espectacular balcón aterrazado con vista abierta al lago central de Nordelta. 2 baños, parrilla, dormitorio ppal. con vestidor. Cochera y Baulera.                                                                                                                                                                                                                                                                                                                                                                                                                                                                                                                                                                                                                                                                                                                                                                                                                                                                                                                                                                                                                                                                                                                                                                                                                                                                                                                                                                                                                                                                                                                                                                                                                                                                                                                                                                                                                                                                                                                                                                                                                                                                                                                                                                                                                                                                                                                                                                                                                                                                                                                                                                                                                                                                                    1\n",
       "Sobre dos lotes internos unificados, 1600 mts2 - paga una sola expensa.Planta alta: tres dormitorios,el principal en suite, y baño completo compartimentado.En planta baja toilette en recepción. living comedor, cocina, dependencia, lavadero,pileta.San Isidro Labrador combina espacios residenciales con las características de un Country Club. En sus 164 ha dispone de 844 lotes unifamiliares y 2 multi familiares. Tiene un área destinada a sus actividades deportivas más tradicionales: rugby, hockey y tenis. Además, se destaca por una cancha de golf 18 hoyos.El barrio cuenta con lagunas que permiten el ejercicio de deportes acuáticos no contaminantes como remo, windsurf y natación. Su salida al río brinda la posibilidad de tener embarcaciones con motor, ideales para la navegación y el esquí acuático. San Isidro Labrador reúne todos los elementos tradicionales de los barrios de Eidico sumados a las características de un country club.                                                                                                                                                                                                                                                                                                                                                                                                                                                                                                                                                                                                                                                                                                                                                                                                                                                                                                                                                                                                                                                                                                                                                                                                                                                                                                                                                                                                                                                                                                                                                                                                                                                                                                                                                                                                                                                                                                      1\n",
       "Casa de 200 m2, sobre lote de 800 m2 aproximadamente, muy buena orientaciÃ³n y costa sobre una laguna.DiseÃ±o estilo mexicano, con detalles de categorÃ­a, construida en dos plantasPB: Amplio living comedor, cocina, comedor. Entrada de servicios, lavadero y habitaciÃ³n de servicio en suite.PA: Cuenta con 3 dormitorios, dos de los dormitorios con baÃ±o compartido y una suite con vestidor.PÃ©rgola cubierta para autos, y galerÃ­a con parrilla.JardÃ­n con pileta con borde borde sin fin y muelle.$2800 EXPENSAS[ Dixon73100369 ]                                                                                                                                                                                                                                                                                                                                                                                                                                                                                                                                                                                                                                                                                                                                                                                                                                                                                                                                                                                                                                                                                                                                                                                                                                                                                                                                                                                                                                                                                                                                                                                                                                                                                                                                                                                                                                                                                                                                                                                                                                                                                                                                                                                                                                                                                                                                    1\n",
       "CODIGO: 3484-REF. 3229 ubicado en: Bernardino Rivadavia 200 -  Publicado por: RAMIREZ MANDATOS & NEGOCIOS INMOBILIARIOS. El precio es de USD 160000 null. Moreno centro. Casa de 4 ambientes. La misma posee 3 dormitorios, cocina, living comedor, baño, lavadero, jardin de invierno, 2 galpones, parrilla y pileta. Ideal inversor Calle: Rivadavia 200, Moreno, Buenos Aires, Argentina. Precio: USD 160.000 --------------------------------------------------------------------------------- Para mayor informacion o visitas comunicarse con nosotros. REF. 3229 --------------------------------------------------------------------------------- RAMIREZ Mandatos & Negocios Inmobiliarios. Av. San Martin 7836, Francisco Alvarez (0237-487-2292). Sucursal Marcos del Bueno 132, Moreno (0237-424-0391). www ramirezprop com ar . Publicado a través de Mapaprop                                                                                                                                                                                                                                                                                                                                                                                                                                                                                                                                                                                                                                                                                                                                                                                                                                                                                                                                                                                                                                                                                                                                                                                                                                                                                                                                                                                                                                                                                                                                                                                                                                                                                                                                                                                                                                                                                                                                                                                                       1\n",
       "PARA MAS INFORMACIÓN O VISITAS LLAMAR A RAMIRO 15-36100120Chubut 1300 - Hermoso Ph de 1 ambiente en Barracas, la unidad es en PB, posee un patio frontal, entrada al ambiente donde se encuentra la cocina, que está integrada, todo en PB. En la segunda planta se encuentra el baño completo y la terraza. Superficie Total: 40 m2.                                                                                                                                                                                                                                                                                                                                                                                                                                                                                                                                                                                                                                                                                                                                                                                                                                                                                                                                                                                                                                                                                                                                                                                                                                                                                                                                                                                                                                                                                                                                                                                                                                                                                                                                                                                                                                                                                                                                                                                                                                                                                                                                                                                                                                                                                                                                                                                                                                                                                                                                             1\n",
       "2 AMBIENTES LUMINOSOS CON LAVADERO INCORPORADO, COCINA Y BAÑO COMPLETO, PISOS DE PARQUET. EN BUEN ESTADO, FRENTE BANCO GALICIA A 1 CUADRA DE AV. DORREGO, A METROS DE AV. CORRIENTES CON MULTIPLES MEDIOS DE LOCOMOCION . APTO CREDITOLeiva Al 4000 Esquina Av. Dorrego, Villa Crespo.                                                                                                                                                                                                                                                                                                                                                                                                                                                                                                                                                                                                                                                                                                                                                                                                                                                                                                                                                                                                                                                                                                                                                                                                                                                                                                                                                                                                                                                                                                                                                                                                                                                                                                                                                                                                                                                                                                                                                                                                                                                                                                                                                                                                                                                                                                                                                                                                                                                                                                                                                                                            1\n",
       "Name: description, Length: 103404, dtype: int64"
      ]
     },
     "execution_count": 8,
     "metadata": {},
     "output_type": "execute_result"
    }
   ],
   "source": [
    "#Cochera, transporte publico, BALCON o terraza\n",
    "data.description.value_counts()"
   ]
  },
  {
   "cell_type": "code",
   "execution_count": 9,
   "metadata": {
    "collapsed": true
   },
   "outputs": [],
   "source": [
    "#Agrego columnas"
   ]
  },
  {
   "cell_type": "code",
   "execution_count": 10,
   "metadata": {},
   "outputs": [
    {
     "data": {
      "text/plain": [
       "0    105725\n",
       "1     30978\n",
       "Name: cochera, dtype: int64"
      ]
     },
     "execution_count": 10,
     "metadata": {},
     "output_type": "execute_result"
    }
   ],
   "source": [
    "data['cochera'] = 0\n",
    "data.loc[data.description.str.contains('garaje|cochera|garage|garagge|estacionamiento', na=False), 'cochera'] = 1\n",
    "data.cochera.value_counts()"
   ]
  },
  {
   "cell_type": "code",
   "execution_count": 11,
   "metadata": {},
   "outputs": [
    {
     "data": {
      "text/plain": [
       "0    131734\n",
       "1      4969\n",
       "Name: transporte, dtype: int64"
      ]
     },
     "execution_count": 11,
     "metadata": {},
     "output_type": "execute_result"
    }
   ],
   "source": [
    "data['transporte'] = 0\n",
    "data.loc[data.description.str.contains('transporte|transporte publico', na=False), 'transporte'] = 1\n",
    "data.transporte.value_counts()"
   ]
  },
  {
   "cell_type": "code",
   "execution_count": 12,
   "metadata": {},
   "outputs": [
    {
     "data": {
      "text/plain": [
       "0    105815\n",
       "1     30888\n",
       "Name: balcon, dtype: int64"
      ]
     },
     "execution_count": 12,
     "metadata": {},
     "output_type": "execute_result"
    }
   ],
   "source": [
    "data['balcon'] = 0\n",
    "data.loc[data.description.str.contains('balcon|terraza', na=False), 'balcon'] = 1\n",
    "data.balcon.value_counts()"
   ]
  },
  {
   "cell_type": "code",
   "execution_count": 13,
   "metadata": {},
   "outputs": [
    {
     "data": {
      "text/plain": [
       "apartment    78450\n",
       "house        46329\n",
       "PH            8277\n",
       "store         3647\n",
       "Name: property_type, dtype: int64"
      ]
     },
     "execution_count": 13,
     "metadata": {},
     "output_type": "execute_result"
    }
   ],
   "source": [
    "data.property_type.value_counts()"
   ]
  },
  {
   "cell_type": "code",
   "execution_count": 14,
   "metadata": {},
   "outputs": [
    {
     "data": {
      "text/plain": [
       "3    78450\n",
       "1    46329\n",
       "2     8277\n",
       "4     3647\n",
       "Name: tipo_propiedad, dtype: int64"
      ]
     },
     "execution_count": 14,
     "metadata": {},
     "output_type": "execute_result"
    }
   ],
   "source": [
    "def tipoDePropiedadTest(x):\n",
    "    if (x== 'house'): return 1\n",
    "    if (x== 'PH'): return 2\n",
    "    if (x== 'apartment'): return 3\n",
    "    if (x== 'store'): return 4\n",
    "\n",
    "data['tipo_propiedad'] = data['property_type'].apply(tipoDePropiedadTest)\n",
    "data.tipo_propiedad.value_counts()"
   ]
  },
  {
   "cell_type": "markdown",
   "metadata": {},
   "source": [
    "## Set de datos a predecir\n"
   ]
  },
  {
   "cell_type": "code",
   "execution_count": 15,
   "metadata": {},
   "outputs": [
    {
     "data": {
      "text/plain": [
       "(14166, 17)"
      ]
     },
     "execution_count": 15,
     "metadata": {},
     "output_type": "execute_result"
    }
   ],
   "source": [
    "#subo el dataframe\n",
    "test = pd.read_csv('properties/properati_dataset_testing_noprice.csv')\n",
    "test.shape"
   ]
  },
  {
   "cell_type": "code",
   "execution_count": 16,
   "metadata": {
    "collapsed": true
   },
   "outputs": [],
   "source": [
    "# Depuración del set de test\n",
    "#Completo los valores NaN con promedios para realizar la predicción\n",
    "prom_surface_total_in_m2 = test['surface_total_in_m2'].mean()\n",
    "prom_surface_covered_in_m2 = test['surface_covered_in_m2'].mean()\n",
    "prom_lat = test['lat'].mean()\n",
    "prom_lon = test['lon'].mean()\n",
    "\n",
    "test_float = test\n",
    "test_float['surface_total_in_m2'].fillna(prom_surface_total_in_m2, inplace=True)\n",
    "test_float['surface_covered_in_m2'].fillna(prom_surface_covered_in_m2, inplace=True)\n",
    "test_float['lat'].fillna(prom_lat, inplace=True)\n",
    "test_float['lon'].fillna(prom_lon, inplace=True)\n"
   ]
  },
  {
   "cell_type": "code",
   "execution_count": 17,
   "metadata": {},
   "outputs": [
    {
     "data": {
      "text/plain": [
       "0    10896\n",
       "1     3270\n",
       "Name: cochera, dtype: int64"
      ]
     },
     "execution_count": 17,
     "metadata": {},
     "output_type": "execute_result"
    }
   ],
   "source": [
    "test_float['cochera'] = 0\n",
    "test_float.loc[test_float.description.str.contains('garaje|cochera|garage|garagge|estacionamiento', na=False), 'cochera'] = 1\n",
    "test_float.cochera.value_counts()"
   ]
  },
  {
   "cell_type": "code",
   "execution_count": 18,
   "metadata": {},
   "outputs": [
    {
     "data": {
      "text/plain": [
       "0    13411\n",
       "1      755\n",
       "Name: transporte, dtype: int64"
      ]
     },
     "execution_count": 18,
     "metadata": {},
     "output_type": "execute_result"
    }
   ],
   "source": [
    "test_float['transporte'] = 0\n",
    "test_float.loc[test_float.description.str.contains('transporte|transporte publico', na=False), 'transporte'] = 1\n",
    "test_float.transporte.value_counts()"
   ]
  },
  {
   "cell_type": "code",
   "execution_count": 19,
   "metadata": {},
   "outputs": [
    {
     "data": {
      "text/plain": [
       "0    11091\n",
       "1     3075\n",
       "Name: balcon, dtype: int64"
      ]
     },
     "execution_count": 19,
     "metadata": {},
     "output_type": "execute_result"
    }
   ],
   "source": [
    "test_float['balcon'] = 0\n",
    "test_float.loc[test_float.description.str.contains('balcon|terraza', na=False), 'balcon'] = 1\n",
    "test_float.balcon.value_counts()"
   ]
  },
  {
   "cell_type": "code",
   "execution_count": 20,
   "metadata": {},
   "outputs": [
    {
     "data": {
      "text/plain": [
       "departamento    9761\n",
       "casa            3409\n",
       "ph               996\n",
       "Name: property_type, dtype: int64"
      ]
     },
     "execution_count": 20,
     "metadata": {},
     "output_type": "execute_result"
    }
   ],
   "source": [
    "test.property_type.value_counts()"
   ]
  },
  {
   "cell_type": "code",
   "execution_count": 21,
   "metadata": {},
   "outputs": [
    {
     "data": {
      "text/plain": [
       "3    9761\n",
       "1    3409\n",
       "2     996\n",
       "Name: tipo_propiedad, dtype: int64"
      ]
     },
     "execution_count": 21,
     "metadata": {},
     "output_type": "execute_result"
    }
   ],
   "source": [
    "def tipoDePropiedadTest(x):\n",
    "    if (x== 'casa'): return 1\n",
    "    if (x== 'ph'): return 2\n",
    "    if (x== 'departamento'): return 3\n",
    "\n",
    "test_float['tipo_propiedad'] = test_float['property_type'].apply(tipoDePropiedadTest)\n",
    "test_float.tipo_propiedad.value_counts()"
   ]
  },
  {
   "cell_type": "markdown",
   "metadata": {},
   "source": [
    "## Uso pca prara incrementar los datos"
   ]
  },
  {
   "cell_type": "code",
   "execution_count": 22,
   "metadata": {
    "collapsed": true
   },
   "outputs": [],
   "source": [
    "data_float_pca = data.loc[:,['surface_total_in_m2', 'surface_covered_in_m2',\\\n",
    "                          'lat', 'lon']].dropna(axis= 0, how='any')"
   ]
  },
  {
   "cell_type": "code",
   "execution_count": 23,
   "metadata": {
    "collapsed": true
   },
   "outputs": [],
   "source": [
    "from sklearn.decomposition import PCA\n",
    "\n",
    "pca = PCA(n_components=2)\n",
    "pca.fit(data_float_pca)\n",
    "red = pca.transform(data_float_pca)\n",
    "#print(pca.singular_values_)"
   ]
  },
  {
   "cell_type": "code",
   "execution_count": 24,
   "metadata": {},
   "outputs": [
    {
     "data": {
      "text/plain": [
       "array([[ 356.51446811,  338.97387116],\n",
       "       [  84.34268931,  -27.52649457],\n",
       "       [-156.34904183,  -53.1485943 ],\n",
       "       ..., \n",
       "       [-107.65674935,  -36.59381519],\n",
       "       [-157.74632507,  -55.98542138],\n",
       "       [-155.76477006,  -56.25642124]])"
      ]
     },
     "execution_count": 24,
     "metadata": {},
     "output_type": "execute_result"
    }
   ],
   "source": [
    "red"
   ]
  },
  {
   "cell_type": "code",
   "execution_count": 25,
   "metadata": {},
   "outputs": [
    {
     "data": {
      "text/html": [
       "<div>\n",
       "<style>\n",
       "    .dataframe thead tr:only-child th {\n",
       "        text-align: right;\n",
       "    }\n",
       "\n",
       "    .dataframe thead th {\n",
       "        text-align: left;\n",
       "    }\n",
       "\n",
       "    .dataframe tbody tr th {\n",
       "        vertical-align: top;\n",
       "    }\n",
       "</style>\n",
       "<table border=\"1\" class=\"dataframe\">\n",
       "  <thead>\n",
       "    <tr style=\"text-align: right;\">\n",
       "      <th></th>\n",
       "      <th>index</th>\n",
       "      <th>id</th>\n",
       "      <th>created_on</th>\n",
       "      <th>operation</th>\n",
       "      <th>property_type</th>\n",
       "      <th>place_name</th>\n",
       "      <th>place_with_parent_names</th>\n",
       "      <th>country_name</th>\n",
       "      <th>state_name</th>\n",
       "      <th>geonames_id</th>\n",
       "      <th>...</th>\n",
       "      <th>properati_url</th>\n",
       "      <th>description</th>\n",
       "      <th>title</th>\n",
       "      <th>image_thumbnail</th>\n",
       "      <th>cochera</th>\n",
       "      <th>transporte</th>\n",
       "      <th>balcon</th>\n",
       "      <th>tipo_propiedad</th>\n",
       "      <th>PCA1</th>\n",
       "      <th>PCA2</th>\n",
       "    </tr>\n",
       "  </thead>\n",
       "  <tbody>\n",
       "    <tr>\n",
       "      <th>136698</th>\n",
       "      <td>296472</td>\n",
       "      <td>69746a0e825b24661327fb16a6e9c9b1f94447e2</td>\n",
       "      <td>2017-08-01</td>\n",
       "      <td>sell</td>\n",
       "      <td>apartment</td>\n",
       "      <td>Belgrano</td>\n",
       "      <td>|Argentina|Capital Federal|Belgrano|</td>\n",
       "      <td>Argentina</td>\n",
       "      <td>Capital Federal</td>\n",
       "      <td>3436077.0</td>\n",
       "      <td>...</td>\n",
       "      <td>http://www.properati.com.ar/1cja2_venta_depart...</td>\n",
       "      <td>TORRE FORUM ALCORTA - MÁXIMA CATEGORÍA.Impecab...</td>\n",
       "      <td>Torre Forum Alcorta- Impecable 3 ambientes</td>\n",
       "      <td>https://thumbs4.properati.com/1/bjms0KnaAnlNoQ...</td>\n",
       "      <td>1</td>\n",
       "      <td>0</td>\n",
       "      <td>1</td>\n",
       "      <td>3</td>\n",
       "      <td>NaN</td>\n",
       "      <td>NaN</td>\n",
       "    </tr>\n",
       "    <tr>\n",
       "      <th>136699</th>\n",
       "      <td>296473</td>\n",
       "      <td>b2e3f9b2a03d94f938b78e8cb4319e01edc84900</td>\n",
       "      <td>2017-08-01</td>\n",
       "      <td>sell</td>\n",
       "      <td>house</td>\n",
       "      <td>Beccar</td>\n",
       "      <td>|Argentina|Bs.As. G.B.A. Zona Norte|San Isidro...</td>\n",
       "      <td>Argentina</td>\n",
       "      <td>Bs.As. G.B.A. Zona Norte</td>\n",
       "      <td>3436080.0</td>\n",
       "      <td>...</td>\n",
       "      <td>http://www.properati.com.ar/1cja6_venta_casa_b...</td>\n",
       "      <td>Excelente e impecable casa en Venta en Las Lom...</td>\n",
       "      <td>Ruca Inmuebles | Venta | Lomas de San Isidro |...</td>\n",
       "      <td>https://thumbs4.properati.com/2/PCc3WuQDjpNZc4...</td>\n",
       "      <td>0</td>\n",
       "      <td>0</td>\n",
       "      <td>0</td>\n",
       "      <td>1</td>\n",
       "      <td>NaN</td>\n",
       "      <td>NaN</td>\n",
       "    </tr>\n",
       "    <tr>\n",
       "      <th>136700</th>\n",
       "      <td>296474</td>\n",
       "      <td>ef57596c881b0b3167aecbe263d88c5a2a280f61</td>\n",
       "      <td>2017-08-01</td>\n",
       "      <td>sell</td>\n",
       "      <td>apartment</td>\n",
       "      <td>Villa Urquiza</td>\n",
       "      <td>|Argentina|Capital Federal|Villa Urquiza|</td>\n",
       "      <td>Argentina</td>\n",
       "      <td>Capital Federal</td>\n",
       "      <td>3433775.0</td>\n",
       "      <td>...</td>\n",
       "      <td>http://www.properati.com.ar/1cja7_venta_depart...</td>\n",
       "      <td>VENTA DEPARTAMENTO AMBIENTE DIVISIBLE A ESTREN...</td>\n",
       "      <td>VENTA DEPARTAMENTO AMBIENTE DIVISIBLE A ESTREN...</td>\n",
       "      <td>https://thumbs4.properati.com/9/YAe_-2gRVykADP...</td>\n",
       "      <td>0</td>\n",
       "      <td>0</td>\n",
       "      <td>0</td>\n",
       "      <td>3</td>\n",
       "      <td>NaN</td>\n",
       "      <td>NaN</td>\n",
       "    </tr>\n",
       "    <tr>\n",
       "      <th>136701</th>\n",
       "      <td>296475</td>\n",
       "      <td>450ffc16557f54567d15b16f553dd548ad6f66c2</td>\n",
       "      <td>2017-08-01</td>\n",
       "      <td>sell</td>\n",
       "      <td>apartment</td>\n",
       "      <td>Plaza Colón</td>\n",
       "      <td>|Argentina|Buenos Aires Costa Atlántica|Mar de...</td>\n",
       "      <td>Argentina</td>\n",
       "      <td>Buenos Aires Costa Atlántica</td>\n",
       "      <td>NaN</td>\n",
       "      <td>...</td>\n",
       "      <td>http://www.properati.com.ar/1cja8_venta_depart...</td>\n",
       "      <td>2 Amb al contrafrente,  luminoso. El departame...</td>\n",
       "      <td>2 amb. C/ dep. de servicio al contrafrente| Re...</td>\n",
       "      <td>https://thumbs4.properati.com/8/Q12PTvU6BQJ0ib...</td>\n",
       "      <td>0</td>\n",
       "      <td>0</td>\n",
       "      <td>0</td>\n",
       "      <td>3</td>\n",
       "      <td>NaN</td>\n",
       "      <td>NaN</td>\n",
       "    </tr>\n",
       "    <tr>\n",
       "      <th>136702</th>\n",
       "      <td>296476</td>\n",
       "      <td>3f7e9d598124fdaa20721e5f60e38d94fc697d7e</td>\n",
       "      <td>2017-08-01</td>\n",
       "      <td>sell</td>\n",
       "      <td>apartment</td>\n",
       "      <td>Capital Federal</td>\n",
       "      <td>|Argentina|Capital Federal|</td>\n",
       "      <td>Argentina</td>\n",
       "      <td>Capital Federal</td>\n",
       "      <td>3433955.0</td>\n",
       "      <td>...</td>\n",
       "      <td>http://www.properati.com.ar/1cjaa_venta_depart...</td>\n",
       "      <td>Departamento de 77 m2 apto profesional. Edific...</td>\n",
       "      <td>Departamento apto profesional en el Centro</td>\n",
       "      <td>https://thumbs4.properati.com/8/mNEsnQWqB7joBF...</td>\n",
       "      <td>0</td>\n",
       "      <td>0</td>\n",
       "      <td>0</td>\n",
       "      <td>3</td>\n",
       "      <td>NaN</td>\n",
       "      <td>NaN</td>\n",
       "    </tr>\n",
       "  </tbody>\n",
       "</table>\n",
       "<p>5 rows × 34 columns</p>\n",
       "</div>"
      ],
      "text/plain": [
       "         index                                        id  created_on  \\\n",
       "136698  296472  69746a0e825b24661327fb16a6e9c9b1f94447e2  2017-08-01   \n",
       "136699  296473  b2e3f9b2a03d94f938b78e8cb4319e01edc84900  2017-08-01   \n",
       "136700  296474  ef57596c881b0b3167aecbe263d88c5a2a280f61  2017-08-01   \n",
       "136701  296475  450ffc16557f54567d15b16f553dd548ad6f66c2  2017-08-01   \n",
       "136702  296476  3f7e9d598124fdaa20721e5f60e38d94fc697d7e  2017-08-01   \n",
       "\n",
       "       operation property_type       place_name  \\\n",
       "136698      sell     apartment         Belgrano   \n",
       "136699      sell         house           Beccar   \n",
       "136700      sell     apartment    Villa Urquiza   \n",
       "136701      sell     apartment      Plaza Colón   \n",
       "136702      sell     apartment  Capital Federal   \n",
       "\n",
       "                                  place_with_parent_names country_name  \\\n",
       "136698               |Argentina|Capital Federal|Belgrano|    Argentina   \n",
       "136699  |Argentina|Bs.As. G.B.A. Zona Norte|San Isidro...    Argentina   \n",
       "136700          |Argentina|Capital Federal|Villa Urquiza|    Argentina   \n",
       "136701  |Argentina|Buenos Aires Costa Atlántica|Mar de...    Argentina   \n",
       "136702                        |Argentina|Capital Federal|    Argentina   \n",
       "\n",
       "                          state_name  geonames_id  ...   \\\n",
       "136698               Capital Federal    3436077.0  ...    \n",
       "136699      Bs.As. G.B.A. Zona Norte    3436080.0  ...    \n",
       "136700               Capital Federal    3433775.0  ...    \n",
       "136701  Buenos Aires Costa Atlántica          NaN  ...    \n",
       "136702               Capital Federal    3433955.0  ...    \n",
       "\n",
       "                                            properati_url  \\\n",
       "136698  http://www.properati.com.ar/1cja2_venta_depart...   \n",
       "136699  http://www.properati.com.ar/1cja6_venta_casa_b...   \n",
       "136700  http://www.properati.com.ar/1cja7_venta_depart...   \n",
       "136701  http://www.properati.com.ar/1cja8_venta_depart...   \n",
       "136702  http://www.properati.com.ar/1cjaa_venta_depart...   \n",
       "\n",
       "                                              description  \\\n",
       "136698  TORRE FORUM ALCORTA - MÁXIMA CATEGORÍA.Impecab...   \n",
       "136699  Excelente e impecable casa en Venta en Las Lom...   \n",
       "136700  VENTA DEPARTAMENTO AMBIENTE DIVISIBLE A ESTREN...   \n",
       "136701  2 Amb al contrafrente,  luminoso. El departame...   \n",
       "136702  Departamento de 77 m2 apto profesional. Edific...   \n",
       "\n",
       "                                                    title  \\\n",
       "136698         Torre Forum Alcorta- Impecable 3 ambientes   \n",
       "136699  Ruca Inmuebles | Venta | Lomas de San Isidro |...   \n",
       "136700  VENTA DEPARTAMENTO AMBIENTE DIVISIBLE A ESTREN...   \n",
       "136701  2 amb. C/ dep. de servicio al contrafrente| Re...   \n",
       "136702         Departamento apto profesional en el Centro   \n",
       "\n",
       "                                          image_thumbnail cochera  transporte  \\\n",
       "136698  https://thumbs4.properati.com/1/bjms0KnaAnlNoQ...       1           0   \n",
       "136699  https://thumbs4.properati.com/2/PCc3WuQDjpNZc4...       0           0   \n",
       "136700  https://thumbs4.properati.com/9/YAe_-2gRVykADP...       0           0   \n",
       "136701  https://thumbs4.properati.com/8/Q12PTvU6BQJ0ib...       0           0   \n",
       "136702  https://thumbs4.properati.com/8/mNEsnQWqB7joBF...       0           0   \n",
       "\n",
       "        balcon  tipo_propiedad  PCA1  PCA2  \n",
       "136698       1               3   NaN   NaN  \n",
       "136699       0               1   NaN   NaN  \n",
       "136700       0               3   NaN   NaN  \n",
       "136701       0               3   NaN   NaN  \n",
       "136702       0               3   NaN   NaN  \n",
       "\n",
       "[5 rows x 34 columns]"
      ]
     },
     "execution_count": 25,
     "metadata": {},
     "output_type": "execute_result"
    }
   ],
   "source": [
    "d = {'col1': red[:,0], 'col2': red[:,1]}\n",
    "red_data = pd.DataFrame(data=d)\n",
    "\n",
    "data.reset_index(inplace=True)\n",
    "data['PCA1'] = red_data['col1']\n",
    "data['PCA2'] = red_data['col2']\n",
    "data.tail()"
   ]
  },
  {
   "cell_type": "code",
   "execution_count": 26,
   "metadata": {
    "collapsed": true
   },
   "outputs": [],
   "source": [
    "test_float_pca = test_float.loc[:, ['surface_total_in_m2', 'surface_covered_in_m2',\\\n",
    "                                    'lat', 'lon']]\n"
   ]
  },
  {
   "cell_type": "code",
   "execution_count": 27,
   "metadata": {},
   "outputs": [
    {
     "data": {
      "text/plain": [
       "array([[-157.91595764,  267.49256343],\n",
       "       [-157.91595588,  267.49256521],\n",
       "       [-147.60981275,  -48.28794596],\n",
       "       ..., \n",
       "       [  28.64786125,   15.41630185],\n",
       "       [-138.69281885,  -49.50746035],\n",
       "       [ 174.60535763,   -9.59187853]])"
      ]
     },
     "execution_count": 27,
     "metadata": {},
     "output_type": "execute_result"
    }
   ],
   "source": [
    "red_test = pca.transform(test_float_pca)\n",
    "red_test"
   ]
  },
  {
   "cell_type": "code",
   "execution_count": 28,
   "metadata": {},
   "outputs": [
    {
     "data": {
      "text/html": [
       "<div>\n",
       "<style>\n",
       "    .dataframe thead tr:only-child th {\n",
       "        text-align: right;\n",
       "    }\n",
       "\n",
       "    .dataframe thead th {\n",
       "        text-align: left;\n",
       "    }\n",
       "\n",
       "    .dataframe tbody tr th {\n",
       "        vertical-align: top;\n",
       "    }\n",
       "</style>\n",
       "<table border=\"1\" class=\"dataframe\">\n",
       "  <thead>\n",
       "    <tr style=\"text-align: right;\">\n",
       "      <th></th>\n",
       "      <th>id</th>\n",
       "      <th>created_on</th>\n",
       "      <th>property_type</th>\n",
       "      <th>operation</th>\n",
       "      <th>place_name</th>\n",
       "      <th>place_with_parent_names</th>\n",
       "      <th>country_name</th>\n",
       "      <th>state_name</th>\n",
       "      <th>lat-lon</th>\n",
       "      <th>lat</th>\n",
       "      <th>...</th>\n",
       "      <th>floor</th>\n",
       "      <th>rooms</th>\n",
       "      <th>expenses</th>\n",
       "      <th>description</th>\n",
       "      <th>cochera</th>\n",
       "      <th>transporte</th>\n",
       "      <th>balcon</th>\n",
       "      <th>tipo_propiedad</th>\n",
       "      <th>PCA1</th>\n",
       "      <th>PCA2</th>\n",
       "    </tr>\n",
       "  </thead>\n",
       "  <tbody>\n",
       "    <tr>\n",
       "      <th>0</th>\n",
       "      <td>3632</td>\n",
       "      <td>2017-08-24</td>\n",
       "      <td>departamento</td>\n",
       "      <td>venta</td>\n",
       "      <td>Puerto Madero</td>\n",
       "      <td>|Argentina|Capital Federal|Puerto Madero|</td>\n",
       "      <td>Argentina</td>\n",
       "      <td>Capital Federal</td>\n",
       "      <td>-34.6109877599,-58.3634635778</td>\n",
       "      <td>-34.610988</td>\n",
       "      <td>...</td>\n",
       "      <td>NaN</td>\n",
       "      <td>NaN</td>\n",
       "      <td>NaN</td>\n",
       "      <td>Edificio BA Houses situado frente al Dique 3 d...</td>\n",
       "      <td>1</td>\n",
       "      <td>0</td>\n",
       "      <td>0</td>\n",
       "      <td>3</td>\n",
       "      <td>-157.915958</td>\n",
       "      <td>267.492563</td>\n",
       "    </tr>\n",
       "    <tr>\n",
       "      <th>1</th>\n",
       "      <td>3633</td>\n",
       "      <td>2017-08-25</td>\n",
       "      <td>departamento</td>\n",
       "      <td>venta</td>\n",
       "      <td>Buenos Aires Interior</td>\n",
       "      <td>|Argentina|Buenos Aires Interior|</td>\n",
       "      <td>Argentina</td>\n",
       "      <td>Buenos Aires Interior</td>\n",
       "      <td>NaN</td>\n",
       "      <td>-34.629923</td>\n",
       "      <td>...</td>\n",
       "      <td>NaN</td>\n",
       "      <td>NaN</td>\n",
       "      <td>NaN</td>\n",
       "      <td>El departamento cuenta con un living-comedor a...</td>\n",
       "      <td>0</td>\n",
       "      <td>0</td>\n",
       "      <td>0</td>\n",
       "      <td>3</td>\n",
       "      <td>-157.915956</td>\n",
       "      <td>267.492565</td>\n",
       "    </tr>\n",
       "    <tr>\n",
       "      <th>2</th>\n",
       "      <td>2263404</td>\n",
       "      <td>2017-08-01</td>\n",
       "      <td>departamento</td>\n",
       "      <td>venta</td>\n",
       "      <td>Palermo Soho</td>\n",
       "      <td>|Argentina|Capital Federal|Palermo|Palermo Soho|</td>\n",
       "      <td>Argentina</td>\n",
       "      <td>Capital Federal</td>\n",
       "      <td>-34.5893633232,-58.4128798588</td>\n",
       "      <td>-34.589363</td>\n",
       "      <td>...</td>\n",
       "      <td>NaN</td>\n",
       "      <td>NaN</td>\n",
       "      <td>1500</td>\n",
       "      <td>IMPECABLE TORRE COY III – DEPA...</td>\n",
       "      <td>0</td>\n",
       "      <td>0</td>\n",
       "      <td>0</td>\n",
       "      <td>3</td>\n",
       "      <td>-147.609813</td>\n",
       "      <td>-48.287946</td>\n",
       "    </tr>\n",
       "    <tr>\n",
       "      <th>3</th>\n",
       "      <td>2263405</td>\n",
       "      <td>2017-08-01</td>\n",
       "      <td>departamento</td>\n",
       "      <td>venta</td>\n",
       "      <td>Chacarita</td>\n",
       "      <td>|Argentina|Capital Federal|Chacarita|</td>\n",
       "      <td>Argentina</td>\n",
       "      <td>Capital Federal</td>\n",
       "      <td>NaN</td>\n",
       "      <td>-34.629923</td>\n",
       "      <td>...</td>\n",
       "      <td>NaN</td>\n",
       "      <td>NaN</td>\n",
       "      <td>NaN</td>\n",
       "      <td>AMBIENTE DIVISIBLE CON PISOS D...</td>\n",
       "      <td>0</td>\n",
       "      <td>0</td>\n",
       "      <td>0</td>\n",
       "      <td>3</td>\n",
       "      <td>-162.700209</td>\n",
       "      <td>-55.307913</td>\n",
       "    </tr>\n",
       "    <tr>\n",
       "      <th>4</th>\n",
       "      <td>2263406</td>\n",
       "      <td>2017-08-01</td>\n",
       "      <td>departamento</td>\n",
       "      <td>venta</td>\n",
       "      <td>Chacarita</td>\n",
       "      <td>|Argentina|Capital Federal|Chacarita|</td>\n",
       "      <td>Argentina</td>\n",
       "      <td>Capital Federal</td>\n",
       "      <td>NaN</td>\n",
       "      <td>-34.629923</td>\n",
       "      <td>...</td>\n",
       "      <td>NaN</td>\n",
       "      <td>NaN</td>\n",
       "      <td>NaN</td>\n",
       "      <td>LIVING COMEDOR CON PISOS DE PO...</td>\n",
       "      <td>0</td>\n",
       "      <td>0</td>\n",
       "      <td>0</td>\n",
       "      <td>3</td>\n",
       "      <td>-149.184859</td>\n",
       "      <td>-45.044613</td>\n",
       "    </tr>\n",
       "  </tbody>\n",
       "</table>\n",
       "<p>5 rows × 23 columns</p>\n",
       "</div>"
      ],
      "text/plain": [
       "        id  created_on property_type operation             place_name  \\\n",
       "0     3632  2017-08-24  departamento     venta          Puerto Madero   \n",
       "1     3633  2017-08-25  departamento     venta  Buenos Aires Interior   \n",
       "2  2263404  2017-08-01  departamento     venta           Palermo Soho   \n",
       "3  2263405  2017-08-01  departamento     venta              Chacarita   \n",
       "4  2263406  2017-08-01  departamento     venta              Chacarita   \n",
       "\n",
       "                            place_with_parent_names country_name  \\\n",
       "0         |Argentina|Capital Federal|Puerto Madero|    Argentina   \n",
       "1                 |Argentina|Buenos Aires Interior|    Argentina   \n",
       "2  |Argentina|Capital Federal|Palermo|Palermo Soho|    Argentina   \n",
       "3             |Argentina|Capital Federal|Chacarita|    Argentina   \n",
       "4             |Argentina|Capital Federal|Chacarita|    Argentina   \n",
       "\n",
       "              state_name                        lat-lon        lat  \\\n",
       "0        Capital Federal  -34.6109877599,-58.3634635778 -34.610988   \n",
       "1  Buenos Aires Interior                            NaN -34.629923   \n",
       "2        Capital Federal  -34.5893633232,-58.4128798588 -34.589363   \n",
       "3        Capital Federal                            NaN -34.629923   \n",
       "4        Capital Federal                            NaN -34.629923   \n",
       "\n",
       "      ...      floor  rooms  expenses  \\\n",
       "0     ...        NaN    NaN       NaN   \n",
       "1     ...        NaN    NaN       NaN   \n",
       "2     ...        NaN    NaN      1500   \n",
       "3     ...        NaN    NaN       NaN   \n",
       "4     ...        NaN    NaN       NaN   \n",
       "\n",
       "                                         description  cochera transporte  \\\n",
       "0  Edificio BA Houses situado frente al Dique 3 d...        1          0   \n",
       "1  El departamento cuenta con un living-comedor a...        0          0   \n",
       "2                  IMPECABLE TORRE COY III – DEPA...        0          0   \n",
       "3                  AMBIENTE DIVISIBLE CON PISOS D...        0          0   \n",
       "4                  LIVING COMEDOR CON PISOS DE PO...        0          0   \n",
       "\n",
       "  balcon  tipo_propiedad        PCA1        PCA2  \n",
       "0      0               3 -157.915958  267.492563  \n",
       "1      0               3 -157.915956  267.492565  \n",
       "2      0               3 -147.609813  -48.287946  \n",
       "3      0               3 -162.700209  -55.307913  \n",
       "4      0               3 -149.184859  -45.044613  \n",
       "\n",
       "[5 rows x 23 columns]"
      ]
     },
     "execution_count": 28,
     "metadata": {},
     "output_type": "execute_result"
    }
   ],
   "source": [
    "d = {'col1': red_test[:,0], 'col2': red_test[:,1]}\n",
    "red_test_data = pd.DataFrame(data=d)\n",
    "\n",
    "#test_float.reset_index(inplace=True)\n",
    "test_float['PCA1'] = red_test_data['col1']\n",
    "test_float['PCA2'] = red_test_data['col2']\n",
    "test_float.head()"
   ]
  },
  {
   "cell_type": "code",
   "execution_count": 29,
   "metadata": {},
   "outputs": [
    {
     "name": "stdout",
     "output_type": "stream",
     "text": [
      "<class 'pandas.core.frame.DataFrame'>\n",
      "RangeIndex: 136703 entries, 0 to 136702\n",
      "Data columns (total 34 columns):\n",
      "index                         136703 non-null int64\n",
      "id                            136703 non-null object\n",
      "created_on                    136703 non-null object\n",
      "operation                     136703 non-null object\n",
      "property_type                 136703 non-null object\n",
      "place_name                    136674 non-null object\n",
      "place_with_parent_names       136703 non-null object\n",
      "country_name                  136703 non-null object\n",
      "state_name                    136703 non-null object\n",
      "geonames_id                   111052 non-null float64\n",
      "lat-lon                       97102 non-null object\n",
      "lat                           97102 non-null float64\n",
      "lon                           97102 non-null float64\n",
      "price                         136703 non-null float64\n",
      "currency                      136703 non-null object\n",
      "price_aprox_local_currency    136703 non-null float64\n",
      "price_aprox_usd               136703 non-null float64\n",
      "surface_total_in_m2           136703 non-null float64\n",
      "surface_covered_in_m2         136703 non-null float64\n",
      "price_usd_per_m2              136703 non-null float64\n",
      "price_per_m2                  136703 non-null float64\n",
      "floor                         12814 non-null float64\n",
      "rooms                         71801 non-null float64\n",
      "expenses                      22503 non-null float64\n",
      "properati_url                 136703 non-null object\n",
      "description                   136701 non-null object\n",
      "title                         136703 non-null object\n",
      "image_thumbnail               135356 non-null object\n",
      "cochera                       136703 non-null int64\n",
      "transporte                    136703 non-null int64\n",
      "balcon                        136703 non-null int64\n",
      "tipo_propiedad                136703 non-null int64\n",
      "PCA1                          97102 non-null float64\n",
      "PCA2                          97102 non-null float64\n",
      "dtypes: float64(15), int64(5), object(14)\n",
      "memory usage: 35.5+ MB\n"
     ]
    }
   ],
   "source": [
    "data.info()"
   ]
  },
  {
   "cell_type": "markdown",
   "metadata": {},
   "source": [
    "## Estimo parametros"
   ]
  },
  {
   "cell_type": "code",
   "execution_count": 39,
   "metadata": {},
   "outputs": [
    {
     "name": "stderr",
     "output_type": "stream",
     "text": [
      "D:\\Anaconda\\lib\\site-packages\\sklearn\\cross_validation.py:44: DeprecationWarning: This module was deprecated in version 0.18 in favor of the model_selection module into which all the refactored classes and functions are moved. Also note that the interface of the new CV iterators are different from that of this module. This module will be removed in 0.20.\n",
      "  \"This module will be removed in 0.20.\", DeprecationWarning)\n",
      "D:\\Anaconda\\lib\\site-packages\\sklearn\\grid_search.py:43: DeprecationWarning: This module was deprecated in version 0.18 in favor of the model_selection module into which all the refactored classes and functions are moved. This module will be removed in 0.20.\n",
      "  DeprecationWarning)\n"
     ]
    },
    {
     "data": {
      "text/plain": [
       "(75627, 11)"
      ]
     },
     "execution_count": 39,
     "metadata": {},
     "output_type": "execute_result"
    }
   ],
   "source": [
    "#Import libraries:\n",
    "import pandas as pd\n",
    "import numpy as np\n",
    "from sklearn.ensemble import GradientBoostingRegressor  #GBM algorithm\n",
    "from sklearn import cross_validation, metrics   #Additional scklearn functions\n",
    "from sklearn.grid_search import GridSearchCV   #Perforing grid search\n",
    "\n",
    "import matplotlib.pylab as plt\n",
    "%matplotlib inline\n",
    "from matplotlib.pylab import rcParams\n",
    "rcParams['figure.figsize'] = 12, 4\n",
    "\n",
    "\n",
    "prop = data.loc[:, ['price_aprox_usd', 'surface_total_in_m2', 'surface_covered_in_m2',\\\n",
    "                          'lat', 'lon', 'cochera', 'transporte', 'balcon', 'tipo_propiedad', 'PCA1', 'PCA2']].dropna(axis= 0, how='any')\n",
    "target = 'price_aprox_usd'\n",
    "IDcol = 'ID'\n",
    "prop.shape"
   ]
  },
  {
   "cell_type": "code",
   "execution_count": 40,
   "metadata": {
    "collapsed": true
   },
   "outputs": [],
   "source": [
    "def modelfit(alg, dprop, predictors, performCV=True, printFeatureImportance=True, cv_folds=10):\n",
    "    #Fit the algorithm on the data\n",
    "    alg.fit(dprop[predictors], dprop['price_aprox_usd'])\n",
    "        \n",
    "    #Predict training set:\n",
    "    dprop_predictions = alg.predict(dprop[predictors])\n",
    "    \n",
    "    \n",
    "    #Perform cross-validation:\n",
    "    if performCV:\n",
    "        cv_score = cross_validation.cross_val_score(alg, dprop[predictors], dprop['price_aprox_usd'], cv=cv_folds, scoring='r2')\n",
    "    \n",
    "    #Print model report:\n",
    "    print (\"\\nModel Report\")\n",
    "    print (\"Accuracy : %.4g\" % metrics.r2_score(dprop['price_aprox_usd'].values, dprop_predictions))\n",
    "   \n",
    "    \n",
    "    if performCV:\n",
    "        print (\"CV Score : Mean - %.7g | Std - %.7g | Min - %.7g | Max - %.7g\" % (np.mean(cv_score),np.std(cv_score),np.min(cv_score),np.max(cv_score)))\n",
    "        \n",
    "    #Print Feature Importance:\n",
    "    if printFeatureImportance:\n",
    "        feat_imp = pd.Series(alg.feature_importances_, predictors).sort_values(ascending=False)\n",
    "        feat_imp.plot(kind='bar', title='Feature Importances')\n",
    "        plt.ylabel('Feature Importance Score')"
   ]
  },
  {
   "cell_type": "code",
   "execution_count": null,
   "metadata": {},
   "outputs": [
    {
     "name": "stdout",
     "output_type": "stream",
     "text": [
      "\n",
      "Model Report\n",
      "Accuracy : 0.7415\n",
      "CV Score : Mean - 0.6553718 | Std - 0.05055889 | Min - 0.566097 | Max - 0.7325292\n"
     ]
    },
    {
     "data": {
      "image/png": "[encoded data removed]",
      "text/plain": [
       "<matplotlib.figure.Figure at 0x572f3828>"
      ]
     },
     "metadata": {},
     "output_type": "display_data"
    }
   ],
   "source": [
    "#Choose all predictors except target & IDcols\n",
    "predictors = ['surface_total_in_m2', 'surface_covered_in_m2', 'lat', 'lon', 'cochera', 'transporte', 'balcon', 'tipo_propiedad', 'PCA1', 'PCA2']\n",
    "gbm0 = GradientBoostingRegressor(random_state=10)\n",
    "modelfit(gbm0, prop, predictors)"
   ]
  },
  {
   "cell_type": "code",
   "execution_count": null,
   "metadata": {
    "collapsed": true
   },
   "outputs": [],
   "source": [
    "predictors = ['surface_total_in_m2', 'surface_covered_in_m2', 'lat', 'lon', 'cochera', 'transporte', 'balcon', 'tipo_propiedad', 'PCA1', 'PCA2']\n",
    "param_test1 = {'n_estimators':list(range(1,500,1))}\n",
    "\n",
    "gsearch1 = GridSearchCV(estimator = GradientBoostingRegressor(learning_rate=0.1, min_samples_split=500,\\\n",
    "min_samples_leaf=50, max_depth=8, max_features='sqrt', subsample=0.8, random_state=10),\\\n",
    "param_grid = param_test1, scoring='r2',n_jobs=4,iid=False, cv=5)\n",
    "\n",
    "                        \n",
    "gsearch1.fit(prop[predictors], prop[target])"
   ]
  },
  {
   "cell_type": "code",
   "execution_count": null,
   "metadata": {
    "collapsed": true
   },
   "outputs": [],
   "source": [
    "gsearch1.grid_scores_, gsearch1.best_params_, gsearch1.best_score_"
   ]
  },
  {
   "cell_type": "code",
   "execution_count": null,
   "metadata": {
    "collapsed": true
   },
   "outputs": [],
   "source": [
    "#Encontrar los parametros max_depth y min_samples_split\n",
    "#Aca ya uso n_estimators=499\n",
    "param_test2 = {'max_depth':list(range(2,16,2)), 'min_samples_split':list(range(200,1001,10))}\n",
    "gsearch2 = GridSearchCV(estimator = GradientBoostingRegressor(learning_rate=0.1, n_estimators=499, max_features='sqrt', subsample=0.8, random_state=10), \n",
    "param_grid = param_test2, scoring='r2',n_jobs=4,iid=False, cv=5)\n",
    "gsearch2.fit(prop[predictors], prop[target])\n",
    "gsearch2.grid_scores_, gsearch2.best_params_, gsearch2.best_score_"
   ]
  },
  {
   "cell_type": "markdown",
   "metadata": {
    "collapsed": true
   },
   "source": [
    "## Hago la prediccion"
   ]
  },
  {
   "cell_type": "code",
   "execution_count": 41,
   "metadata": {},
   "outputs": [
    {
     "name": "stdout",
     "output_type": "stream",
     "text": [
      "75627\n",
      "52938.9\n"
     ]
    }
   ],
   "source": [
    "data_float =  data.loc[:, ['price_aprox_usd', 'surface_total_in_m2', 'surface_covered_in_m2',\\\n",
    "            'lat', 'lon', 'cochera', 'transporte', 'balcon', 'tipo_propiedad', 'PCA1', 'PCA2']].dropna(axis= 0, how='any')\n",
    "\n",
    "l = len(data_float)\n",
    "limite = 70*l/100\n",
    "print (l)\n",
    "print (limite)\n"
   ]
  },
  {
   "cell_type": "code",
   "execution_count": 43,
   "metadata": {},
   "outputs": [],
   "source": [
    "feature_cols = ['surface_total_in_m2', 'surface_covered_in_m2',\\\n",
    "            'lat', 'lon', 'cochera', 'transporte', 'balcon', 'tipo_propiedad', 'PCA1', 'PCA2']\n",
    "TRAIN = data_float[:60000]\n",
    "TEST = data_float[60000:]\n",
    "\n",
    "#Separo en set de entrenamiento y set de Test\n",
    "X_train = TRAIN[feature_cols]\n",
    "X_test = TEST[feature_cols]\n",
    "\n",
    "y_train = TRAIN.price_aprox_usd\n",
    "y_test = TEST.price_aprox_usd"
   ]
  },
  {
   "cell_type": "code",
   "execution_count": 44,
   "metadata": {},
   "outputs": [
    {
     "name": "stdout",
     "output_type": "stream",
     "text": [
      "Precisión Gradient Boosting train/test  0.958/0.692\n"
     ]
    }
   ],
   "source": [
    "# 'n_estimators': 591, 'max_depth': 12, 'min_samples_split': 240, 'min_samples_leaf': 19, 'max_features':2\n",
    "\n",
    "from sklearn import ensemble\n",
    "params = {'n_estimators': 591, 'max_depth': 12, 'min_samples_split': 240, 'min_samples_leaf':19 , 'max_features': 2,\n",
    "          'learning_rate': 0.16}\n",
    "\n",
    "\n",
    "clf = ensemble.GradientBoostingRegressor(**params)\n",
    "\n",
    "clf.fit(X_train, y_train)\n",
    "\n",
    "#Me fijo la precision\n",
    "print('Precisión Gradient Boosting train/test  {0:.3f}/{1:.3f}'\n",
    "      .format(clf.score(X_train, y_train), clf.score(X_test, y_test)))"
   ]
  },
  {
   "cell_type": "code",
   "execution_count": 45,
   "metadata": {},
   "outputs": [],
   "source": [
    "#Hago la prediccion para Kaggle\n",
    "test_float['price_aprox_usd_XGBFinal'] = clf.predict(test_float.loc[:, ['surface_total_in_m2', 'surface_covered_in_m2',\\\n",
    "                                            'lat', 'lon', 'cochera', 'transporte', 'balcon', 'tipo_propiedad', 'PCA1', 'PCA2']])\n",
    "\n",
    "#Genero el csv con los nombres de columnas requeridos por Kaggle\n",
    "test_float_reduced = test_float.loc[:,['id', 'price_aprox_usd_XGBFinal']]\n",
    "test_float_reduced.columns=['id', 'price_usd']\n",
    "test_float_reduced.to_csv('SubmitXGBoostingFINAL.csv', index=False)"
   ]
  }
 ],
 "metadata": {
  "kernelspec": {
   "display_name": "Python 3",
   "language": "python",
   "name": "python3"
  },
  "language_info": {
   "codemirror_mode": {
    "name": "ipython",
    "version": 3
   },
   "file_extension": ".py",
   "mimetype": "text/x-python",
   "name": "python",
   "nbconvert_exporter": "python",
   "pygments_lexer": "ipython3",
   "version": "3.6.1"
  }
 },
 "nbformat": 4,
 "nbformat_minor": 2
}
