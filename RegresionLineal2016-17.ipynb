{
 "cells": [
  {
   "cell_type": "code",
   "execution_count": 52,
   "metadata": {
    "collapsed": true
   },
   "outputs": [],
   "source": [
    "import numpy as np \n",
    "import pandas as pd\n",
    "import calendar\n",
    "import math\n",
    "\n",
    "# plots\n",
    "import matplotlib.pyplot as plt\n",
    "import seaborn as sns\n",
    "%matplotlib inline"
   ]
  },
  {
   "cell_type": "code",
   "execution_count": 53,
   "metadata": {
    "collapsed": true
   },
   "outputs": [],
   "source": [
    "filenames = ['properties/properati-AR-2016-01-01-properties-sell.csv', \n",
    "            'properties/properati-AR-2016-02-01-properties-sell.csv',\n",
    "            'properties/properati-AR-2016-03-01-properties-sell.csv',\n",
    "            'properties/properati-AR-2016-04-01-properties-sell.csv',\n",
    "            'properties/properati-AR-2016-05-01-properties-sell.csv',\n",
    "            'properties/properati-AR-2016-06-01-properties-sell.csv',\n",
    "            'properties/properati-AR-2016-07-01-properties-sell.csv',\n",
    "            'properties/properati-AR-2016-08-01-properties-sell.csv',\n",
    "            'properties/properati-AR-2016-09-01-properties-sell.csv',\n",
    "            'properties/properati-AR-2016-10-01-properties-sell.csv',\n",
    "            'properties/properati-AR-2016-11-01-properties-sell.csv',\n",
    "            'properties/properati-AR-2016-12-01-properties-sell.csv', \n",
    "            'properties/properati-AR-2017-01-01-properties-sell.csv',\n",
    "            'properties/properati-AR-2017-02-01-properties-sell.csv',\n",
    "            'properties/properati-AR-2017-03-01-properties-sell.csv',\n",
    "            'properties/properati-AR-2017-04-01-properties-sell.csv',\n",
    "            'properties/properati-AR-2017-05-01-properties-sell.csv',\n",
    "            'properties/properati-AR-2017-06-01-properties-sell.csv',\n",
    "            'properties/properati-AR-2017-07-01-properties-sell.csv',\n",
    "            'properties/properati-AR-2017-08-01-properties-sell.csv']\n",
    "\n",
    "dataframes = []\n",
    "for filename in filenames:\n",
    "    dataframes.append(pd.read_csv(filename))"
   ]
  },
  {
   "cell_type": "code",
   "execution_count": 54,
   "metadata": {
    "collapsed": true
   },
   "outputs": [],
   "source": [
    "#Uno los dataframe\n",
    "data = pd.DataFrame()\n",
    "for dataframe in dataframes:\n",
    "    data = pd.concat([data, dataframe]).drop_duplicates().reset_index(drop=True)"
   ]
  },
  {
   "cell_type": "code",
   "execution_count": 55,
   "metadata": {
    "scrolled": true
   },
   "outputs": [
    {
     "name": "stdout",
     "output_type": "stream",
     "text": [
      "<class 'pandas.core.frame.DataFrame'>\n",
      "RangeIndex: 406430 entries, 0 to 406429\n",
      "Data columns (total 27 columns):\n",
      "id                            406430 non-null object\n",
      "created_on                    406430 non-null object\n",
      "operation                     406430 non-null object\n",
      "property_type                 406430 non-null object\n",
      "place_name                    406362 non-null object\n",
      "place_with_parent_names       406430 non-null object\n",
      "country_name                  406430 non-null object\n",
      "state_name                    406430 non-null object\n",
      "geonames_id                   343747 non-null float64\n",
      "lat-lon                       295554 non-null object\n",
      "lat                           295554 non-null float64\n",
      "lon                           295554 non-null float64\n",
      "price                         359590 non-null float64\n",
      "currency                      348418 non-null object\n",
      "price_aprox_local_currency    359590 non-null float64\n",
      "price_aprox_usd               359590 non-null float64\n",
      "surface_total_in_m2           272545 non-null float64\n",
      "surface_covered_in_m2         334674 non-null float64\n",
      "price_usd_per_m2              227905 non-null float64\n",
      "price_per_m2                  295597 non-null float64\n",
      "floor                         40703 non-null float64\n",
      "rooms                         220452 non-null float64\n",
      "expenses                      38479 non-null float64\n",
      "properati_url                 406430 non-null object\n",
      "description                   406411 non-null object\n",
      "title                         406430 non-null object\n",
      "image_thumbnail               399306 non-null object\n",
      "dtypes: float64(13), object(14)\n",
      "memory usage: 83.7+ MB\n"
     ]
    }
   ],
   "source": [
    "data.info()"
   ]
  },
  {
   "cell_type": "code",
   "execution_count": 56,
   "metadata": {},
   "outputs": [
    {
     "name": "stdout",
     "output_type": "stream",
     "text": [
      "<class 'pandas.core.frame.DataFrame'>\n",
      "RangeIndex: 14166 entries, 0 to 14165\n",
      "Data columns (total 17 columns):\n",
      "id                         14166 non-null int64\n",
      "created_on                 14166 non-null object\n",
      "property_type              14166 non-null object\n",
      "operation                  14166 non-null object\n",
      "place_name                 14166 non-null object\n",
      "place_with_parent_names    14166 non-null object\n",
      "country_name               14166 non-null object\n",
      "state_name                 14166 non-null object\n",
      "lat-lon                    10487 non-null object\n",
      "lat                        10487 non-null float64\n",
      "lon                        10487 non-null float64\n",
      "surface_total_in_m2        11853 non-null float64\n",
      "surface_covered_in_m2      13005 non-null float64\n",
      "floor                      1368 non-null float64\n",
      "rooms                      7500 non-null float64\n",
      "expenses                   2543 non-null object\n",
      "description                14166 non-null object\n",
      "dtypes: float64(6), int64(1), object(10)\n",
      "memory usage: 1.8+ MB\n"
     ]
    }
   ],
   "source": [
    "test = pd.read_csv('properties/properati_dataset_testing_noprice.csv')\n",
    "test.info()"
   ]
  },
  {
   "cell_type": "markdown",
   "metadata": {},
   "source": [
    "<br><B><FONT FACE=\"Arial\" SIZE=\"5\">Prediccion usando regresion lineal, en base a las propiedades: 'price_aprox_usd', 'surface_total_in_m2', 'surface_covered_in_m2', 'floor', 'rooms'</FONT></B><br/>"
   ]
  },
  {
   "cell_type": "code",
   "execution_count": 57,
   "metadata": {},
   "outputs": [
    {
     "data": {
      "text/html": [
       "<div>\n",
       "<style>\n",
       "    .dataframe thead tr:only-child th {\n",
       "        text-align: right;\n",
       "    }\n",
       "\n",
       "    .dataframe thead th {\n",
       "        text-align: left;\n",
       "    }\n",
       "\n",
       "    .dataframe tbody tr th {\n",
       "        vertical-align: top;\n",
       "    }\n",
       "</style>\n",
       "<table border=\"1\" class=\"dataframe\">\n",
       "  <thead>\n",
       "    <tr style=\"text-align: right;\">\n",
       "      <th></th>\n",
       "      <th>price_aprox_usd</th>\n",
       "      <th>surface_total_in_m2</th>\n",
       "      <th>surface_covered_in_m2</th>\n",
       "      <th>floor</th>\n",
       "      <th>rooms</th>\n",
       "      <th>lat</th>\n",
       "      <th>lon</th>\n",
       "    </tr>\n",
       "  </thead>\n",
       "  <tbody>\n",
       "    <tr>\n",
       "      <th>count</th>\n",
       "      <td>6.579000e+03</td>\n",
       "      <td>6579.000000</td>\n",
       "      <td>6579.000000</td>\n",
       "      <td>6579.000000</td>\n",
       "      <td>6579.000000</td>\n",
       "      <td>6579.000000</td>\n",
       "      <td>6579.000000</td>\n",
       "    </tr>\n",
       "    <tr>\n",
       "      <th>mean</th>\n",
       "      <td>1.235983e+05</td>\n",
       "      <td>66.227238</td>\n",
       "      <td>57.474692</td>\n",
       "      <td>2.766986</td>\n",
       "      <td>2.355829</td>\n",
       "      <td>-34.539266</td>\n",
       "      <td>-58.700852</td>\n",
       "    </tr>\n",
       "    <tr>\n",
       "      <th>std</th>\n",
       "      <td>1.055688e+05</td>\n",
       "      <td>45.041009</td>\n",
       "      <td>33.478942</td>\n",
       "      <td>1.661074</td>\n",
       "      <td>1.038335</td>\n",
       "      <td>1.358901</td>\n",
       "      <td>1.494967</td>\n",
       "    </tr>\n",
       "    <tr>\n",
       "      <th>min</th>\n",
       "      <td>0.000000e+00</td>\n",
       "      <td>17.000000</td>\n",
       "      <td>17.000000</td>\n",
       "      <td>1.000000</td>\n",
       "      <td>1.000000</td>\n",
       "      <td>-42.786001</td>\n",
       "      <td>-71.354000</td>\n",
       "    </tr>\n",
       "    <tr>\n",
       "      <th>25%</th>\n",
       "      <td>7.000000e+04</td>\n",
       "      <td>41.000000</td>\n",
       "      <td>38.000000</td>\n",
       "      <td>1.000000</td>\n",
       "      <td>2.000000</td>\n",
       "      <td>-34.627617</td>\n",
       "      <td>-58.560002</td>\n",
       "    </tr>\n",
       "    <tr>\n",
       "      <th>50%</th>\n",
       "      <td>9.500000e+04</td>\n",
       "      <td>53.000000</td>\n",
       "      <td>47.000000</td>\n",
       "      <td>2.000000</td>\n",
       "      <td>2.000000</td>\n",
       "      <td>-34.602487</td>\n",
       "      <td>-58.468449</td>\n",
       "    </tr>\n",
       "    <tr>\n",
       "      <th>75%</th>\n",
       "      <td>1.500000e+05</td>\n",
       "      <td>75.500000</td>\n",
       "      <td>67.000000</td>\n",
       "      <td>4.000000</td>\n",
       "      <td>3.000000</td>\n",
       "      <td>-34.579034</td>\n",
       "      <td>-58.417680</td>\n",
       "    </tr>\n",
       "    <tr>\n",
       "      <th>max</th>\n",
       "      <td>1.900000e+06</td>\n",
       "      <td>800.000000</td>\n",
       "      <td>494.000000</td>\n",
       "      <td>6.000000</td>\n",
       "      <td>8.000000</td>\n",
       "      <td>36.471865</td>\n",
       "      <td>-6.196595</td>\n",
       "    </tr>\n",
       "  </tbody>\n",
       "</table>\n",
       "</div>"
      ],
      "text/plain": [
       "       price_aprox_usd  surface_total_in_m2  surface_covered_in_m2  \\\n",
       "count     6.579000e+03          6579.000000            6579.000000   \n",
       "mean      1.235983e+05            66.227238              57.474692   \n",
       "std       1.055688e+05            45.041009              33.478942   \n",
       "min       0.000000e+00            17.000000              17.000000   \n",
       "25%       7.000000e+04            41.000000              38.000000   \n",
       "50%       9.500000e+04            53.000000              47.000000   \n",
       "75%       1.500000e+05            75.500000              67.000000   \n",
       "max       1.900000e+06           800.000000             494.000000   \n",
       "\n",
       "             floor        rooms          lat          lon  \n",
       "count  6579.000000  6579.000000  6579.000000  6579.000000  \n",
       "mean      2.766986     2.355829   -34.539266   -58.700852  \n",
       "std       1.661074     1.038335     1.358901     1.494967  \n",
       "min       1.000000     1.000000   -42.786001   -71.354000  \n",
       "25%       1.000000     2.000000   -34.627617   -58.560002  \n",
       "50%       2.000000     2.000000   -34.602487   -58.468449  \n",
       "75%       4.000000     3.000000   -34.579034   -58.417680  \n",
       "max       6.000000     8.000000    36.471865    -6.196595  "
      ]
     },
     "execution_count": 57,
     "metadata": {},
     "output_type": "execute_result"
    }
   ],
   "source": [
    "data_float = data.loc[:, ['price_aprox_usd', 'surface_total_in_m2', 'surface_covered_in_m2',\\\n",
    "                          'floor', 'rooms', 'lat', 'lon']].dropna(axis= 0, how='any')\n",
    "#test_float = test.loc[:, ['surface_total_in_m2', 'surface_covered_in_m2']].dropna(axis= 0, how='any')\n",
    "\n",
    "#filtro\n",
    "data_float = \\\n",
    "data_float.loc[((data_float.surface_total_in_m2 >= 15.0) & (data_float.surface_total_in_m2 <= 1000.0)) & \\\n",
    "               ((data_float.surface_covered_in_m2 >= 15.0) & (data_float.surface_covered_in_m2 <= 500.0)) & \\\n",
    "               ((data_float.floor >= 1.0) & (data_float.floor <= 6.0)) & \\\n",
    "               ((data_float.rooms >= 1.0) & (data_float.rooms <= 8.0)), :]\n",
    "\n",
    "\n",
    "#test_float = test_float.loc[(test_float.surface_total_in_m2 >= 42.0) & (test_float.surface_total_in_m2 <= 88.0), :]\n",
    "#test_float = test_float.loc[(test_float.surface_covered_in_m2 >= 39.0) & (test_float.surface_covered_in_m2 <= 80.0), :]\n",
    "#test_float = test_float.loc[(test_float.floor >= 1.0) & (test_float.floor <= 6.0), :]\n",
    "#test_float = test_float.loc[(test_float.rooms >= 1.0) & (test_float.rooms <= 3.0), :]\n",
    "\n",
    "\n",
    "data_float.describe()"
   ]
  },
  {
   "cell_type": "code",
   "execution_count": 58,
   "metadata": {},
   "outputs": [
    {
     "data": {
      "text/plain": [
       "(6579, 7)"
      ]
     },
     "execution_count": 58,
     "metadata": {},
     "output_type": "execute_result"
    }
   ],
   "source": [
    "data_float.shape"
   ]
  },
  {
   "cell_type": "code",
   "execution_count": 59,
   "metadata": {},
   "outputs": [
    {
     "name": "stdout",
     "output_type": "stream",
     "text": [
      "104689.378455\n",
      "[   32.73134825  2273.64593189  3848.34992143 -4986.77037746 -5982.90824567\n",
      "  5442.53568271]\n"
     ]
    }
   ],
   "source": [
    "#Creo X e Y\n",
    "feature_cols = ['surface_total_in_m2', 'surface_covered_in_m2', 'floor', 'rooms', 'lat', 'lon']\n",
    "X = data_float[feature_cols]\n",
    "y = data_float.price_aprox_usd\n",
    "\n",
    "from sklearn.linear_model import LinearRegression\n",
    "lm = LinearRegression()\n",
    "lm.fit(X, y)\n",
    "\n",
    "# Printeo los coeficientes\n",
    "print lm.intercept_\n",
    "print lm.coef_\n"
   ]
  },
  {
   "cell_type": "code",
   "execution_count": 60,
   "metadata": {},
   "outputs": [
    {
     "data": {
      "text/plain": [
       "[('surface_total_in_m2', 32.731348254410143),\n",
       " ('surface_covered_in_m2', 2273.6459318873844),\n",
       " ('floor', 3848.3499214255344),\n",
       " ('rooms', -4986.7703774576603),\n",
       " ('lat', -5982.9082456723254),\n",
       " ('lon', 5442.5356827104024)]"
      ]
     },
     "execution_count": 60,
     "metadata": {},
     "output_type": "execute_result"
    }
   ],
   "source": [
    "# Uno los coeficientes con su respectiva columna\n",
    "zip(feature_cols, lm.coef_)"
   ]
  },
  {
   "cell_type": "code",
   "execution_count": 61,
   "metadata": {},
   "outputs": [
    {
     "data": {
      "text/plain": [
       "(14166, 17)"
      ]
     },
     "execution_count": 61,
     "metadata": {},
     "output_type": "execute_result"
    }
   ],
   "source": [
    "test.shape"
   ]
  },
  {
   "cell_type": "code",
   "execution_count": 62,
   "metadata": {},
   "outputs": [
    {
     "name": "stdout",
     "output_type": "stream",
     "text": [
      "<class 'pandas.core.frame.DataFrame'>\n",
      "RangeIndex: 14166 entries, 0 to 14165\n",
      "Data columns (total 17 columns):\n",
      "id                         14166 non-null int64\n",
      "created_on                 14166 non-null object\n",
      "property_type              14166 non-null object\n",
      "operation                  14166 non-null object\n",
      "place_name                 14166 non-null object\n",
      "place_with_parent_names    14166 non-null object\n",
      "country_name               14166 non-null object\n",
      "state_name                 14166 non-null object\n",
      "lat-lon                    14166 non-null object\n",
      "lat                        14166 non-null float64\n",
      "lon                        14166 non-null float64\n",
      "surface_total_in_m2        14166 non-null float64\n",
      "surface_covered_in_m2      14166 non-null float64\n",
      "floor                      14166 non-null float64\n",
      "rooms                      14166 non-null float64\n",
      "expenses                   14166 non-null object\n",
      "description                14166 non-null object\n",
      "dtypes: float64(6), int64(1), object(10)\n",
      "memory usage: 1.8+ MB\n"
     ]
    }
   ],
   "source": [
    "test_float = test\n",
    "test_float.fillna(0, inplace=True)\n",
    "test_float.info()"
   ]
  },
  {
   "cell_type": "code",
   "execution_count": 64,
   "metadata": {},
   "outputs": [
    {
     "data": {
      "text/html": [
       "<div>\n",
       "<style>\n",
       "    .dataframe thead tr:only-child th {\n",
       "        text-align: right;\n",
       "    }\n",
       "\n",
       "    .dataframe thead th {\n",
       "        text-align: left;\n",
       "    }\n",
       "\n",
       "    .dataframe tbody tr th {\n",
       "        vertical-align: top;\n",
       "    }\n",
       "</style>\n",
       "<table border=\"1\" class=\"dataframe\">\n",
       "  <thead>\n",
       "    <tr style=\"text-align: right;\">\n",
       "      <th></th>\n",
       "      <th>id</th>\n",
       "      <th>created_on</th>\n",
       "      <th>property_type</th>\n",
       "      <th>operation</th>\n",
       "      <th>place_name</th>\n",
       "      <th>place_with_parent_names</th>\n",
       "      <th>country_name</th>\n",
       "      <th>state_name</th>\n",
       "      <th>lat-lon</th>\n",
       "      <th>lat</th>\n",
       "      <th>lon</th>\n",
       "      <th>surface_total_in_m2</th>\n",
       "      <th>surface_covered_in_m2</th>\n",
       "      <th>floor</th>\n",
       "      <th>rooms</th>\n",
       "      <th>expenses</th>\n",
       "      <th>description</th>\n",
       "      <th>price_aprox_usd</th>\n",
       "    </tr>\n",
       "  </thead>\n",
       "  <tbody>\n",
       "    <tr>\n",
       "      <th>0</th>\n",
       "      <td>3632</td>\n",
       "      <td>2017-08-24</td>\n",
       "      <td>departamento</td>\n",
       "      <td>venta</td>\n",
       "      <td>Puerto Madero</td>\n",
       "      <td>|Argentina|Capital Federal|Puerto Madero|</td>\n",
       "      <td>Argentina</td>\n",
       "      <td>Capital Federal</td>\n",
       "      <td>-34.6109877599,-58.3634635778</td>\n",
       "      <td>-34.610988</td>\n",
       "      <td>-58.363464</td>\n",
       "      <td>0.0</td>\n",
       "      <td>0.0</td>\n",
       "      <td>0.0</td>\n",
       "      <td>0.0</td>\n",
       "      <td>0</td>\n",
       "      <td>Edificio BA Houses situado frente al Dique 3 d...</td>\n",
       "      <td>-5881.490574</td>\n",
       "    </tr>\n",
       "    <tr>\n",
       "      <th>1</th>\n",
       "      <td>3633</td>\n",
       "      <td>2017-08-25</td>\n",
       "      <td>departamento</td>\n",
       "      <td>venta</td>\n",
       "      <td>Buenos Aires Interior</td>\n",
       "      <td>|Argentina|Buenos Aires Interior|</td>\n",
       "      <td>Argentina</td>\n",
       "      <td>Buenos Aires Interior</td>\n",
       "      <td>0</td>\n",
       "      <td>0.000000</td>\n",
       "      <td>0.000000</td>\n",
       "      <td>0.0</td>\n",
       "      <td>0.0</td>\n",
       "      <td>0.0</td>\n",
       "      <td>0.0</td>\n",
       "      <td>0</td>\n",
       "      <td>El departamento cuenta con un living-comedor a...</td>\n",
       "      <td>104689.378455</td>\n",
       "    </tr>\n",
       "    <tr>\n",
       "      <th>2</th>\n",
       "      <td>2263404</td>\n",
       "      <td>2017-08-01</td>\n",
       "      <td>departamento</td>\n",
       "      <td>venta</td>\n",
       "      <td>Palermo Soho</td>\n",
       "      <td>|Argentina|Capital Federal|Palermo|Palermo Soho|</td>\n",
       "      <td>Argentina</td>\n",
       "      <td>Capital Federal</td>\n",
       "      <td>-34.5893633232,-58.4128798588</td>\n",
       "      <td>-34.589363</td>\n",
       "      <td>-58.412880</td>\n",
       "      <td>53.0</td>\n",
       "      <td>48.0</td>\n",
       "      <td>0.0</td>\n",
       "      <td>0.0</td>\n",
       "      <td>1500</td>\n",
       "      <td>IMPECABLE TORRE COY III – DEPA...</td>\n",
       "      <td>104589.948721</td>\n",
       "    </tr>\n",
       "    <tr>\n",
       "      <th>3</th>\n",
       "      <td>2263405</td>\n",
       "      <td>2017-08-01</td>\n",
       "      <td>departamento</td>\n",
       "      <td>venta</td>\n",
       "      <td>Chacarita</td>\n",
       "      <td>|Argentina|Capital Federal|Chacarita|</td>\n",
       "      <td>Argentina</td>\n",
       "      <td>Capital Federal</td>\n",
       "      <td>0</td>\n",
       "      <td>0.000000</td>\n",
       "      <td>0.000000</td>\n",
       "      <td>39.0</td>\n",
       "      <td>39.0</td>\n",
       "      <td>0.0</td>\n",
       "      <td>0.0</td>\n",
       "      <td>0</td>\n",
       "      <td>AMBIENTE DIVISIBLE CON PISOS D...</td>\n",
       "      <td>194638.092381</td>\n",
       "    </tr>\n",
       "    <tr>\n",
       "      <th>4</th>\n",
       "      <td>2263406</td>\n",
       "      <td>2017-08-01</td>\n",
       "      <td>departamento</td>\n",
       "      <td>venta</td>\n",
       "      <td>Chacarita</td>\n",
       "      <td>|Argentina|Capital Federal|Chacarita|</td>\n",
       "      <td>Argentina</td>\n",
       "      <td>Capital Federal</td>\n",
       "      <td>0</td>\n",
       "      <td>0.000000</td>\n",
       "      <td>0.000000</td>\n",
       "      <td>51.0</td>\n",
       "      <td>51.0</td>\n",
       "      <td>0.0</td>\n",
       "      <td>0.0</td>\n",
       "      <td>0</td>\n",
       "      <td>LIVING COMEDOR CON PISOS DE PO...</td>\n",
       "      <td>222314.619742</td>\n",
       "    </tr>\n",
       "  </tbody>\n",
       "</table>\n",
       "</div>"
      ],
      "text/plain": [
       "        id  created_on property_type operation             place_name  \\\n",
       "0     3632  2017-08-24  departamento     venta          Puerto Madero   \n",
       "1     3633  2017-08-25  departamento     venta  Buenos Aires Interior   \n",
       "2  2263404  2017-08-01  departamento     venta           Palermo Soho   \n",
       "3  2263405  2017-08-01  departamento     venta              Chacarita   \n",
       "4  2263406  2017-08-01  departamento     venta              Chacarita   \n",
       "\n",
       "                            place_with_parent_names country_name  \\\n",
       "0         |Argentina|Capital Federal|Puerto Madero|    Argentina   \n",
       "1                 |Argentina|Buenos Aires Interior|    Argentina   \n",
       "2  |Argentina|Capital Federal|Palermo|Palermo Soho|    Argentina   \n",
       "3             |Argentina|Capital Federal|Chacarita|    Argentina   \n",
       "4             |Argentina|Capital Federal|Chacarita|    Argentina   \n",
       "\n",
       "              state_name                        lat-lon        lat        lon  \\\n",
       "0        Capital Federal  -34.6109877599,-58.3634635778 -34.610988 -58.363464   \n",
       "1  Buenos Aires Interior                              0   0.000000   0.000000   \n",
       "2        Capital Federal  -34.5893633232,-58.4128798588 -34.589363 -58.412880   \n",
       "3        Capital Federal                              0   0.000000   0.000000   \n",
       "4        Capital Federal                              0   0.000000   0.000000   \n",
       "\n",
       "   surface_total_in_m2  surface_covered_in_m2  floor  rooms expenses  \\\n",
       "0                  0.0                    0.0    0.0    0.0        0   \n",
       "1                  0.0                    0.0    0.0    0.0        0   \n",
       "2                 53.0                   48.0    0.0    0.0     1500   \n",
       "3                 39.0                   39.0    0.0    0.0        0   \n",
       "4                 51.0                   51.0    0.0    0.0        0   \n",
       "\n",
       "                                         description  price_aprox_usd  \n",
       "0  Edificio BA Houses situado frente al Dique 3 d...     -5881.490574  \n",
       "1  El departamento cuenta con un living-comedor a...    104689.378455  \n",
       "2                  IMPECABLE TORRE COY III – DEPA...    104589.948721  \n",
       "3                  AMBIENTE DIVISIBLE CON PISOS D...    194638.092381  \n",
       "4                  LIVING COMEDOR CON PISOS DE PO...    222314.619742  "
      ]
     },
     "execution_count": 64,
     "metadata": {},
     "output_type": "execute_result"
    }
   ],
   "source": [
    "test_float['price_aprox_usd'] = lm.predict(test_float.loc[:, ['surface_total_in_m2', 'surface_covered_in_m2',\\\n",
    "                                'floor', 'rooms', 'lat', 'lon']])\n",
    "test_float.head()\n",
    "#PREGUNTAS\n",
    "#HAY QUE FILTRAR EL .CSV QUE TENEMOS QUE PREDECIR? HAY DATOS TRUCHOS. ésta es una pregunta realmente importante\n",
    "#USANDO REGRESION, HAGO LA PREDDCION DE LAS PROPIEDADES QUE SOLAMENTE TIENEN LAS 4 COLUMNAS CON DATOS POR LAS QUE HAGO LA PREDICCION?"
   ]
  }
 ],
 "metadata": {
  "kernelspec": {
   "display_name": "Python 2",
   "language": "python",
   "name": "python2"
  },
  "language_info": {
   "codemirror_mode": {
    "name": "ipython",
    "version": 2
   },
   "file_extension": ".py",
   "mimetype": "text/x-python",
   "name": "python",
   "nbconvert_exporter": "python",
   "pygments_lexer": "ipython2",
   "version": "2.7.13"
  }
 },
 "nbformat": 4,
 "nbformat_minor": 2
}
