{
 "cells": [
  {
   "cell_type": "markdown",
   "metadata": {},
   "source": [
    "# Trabajo Práctico Datos (75.06) - Análisis exploratorio de datos\n",
    "\n",
    "\n",
    "El objetivo del primer TP es realizar un análisis exploratorio del set de datos del TP. Queremos ver qué cosas podemos descubrir sobre los datos que puedan resultar interesantes. Los requisitos de la primera entrega son los siguientes:\n",
    "\n",
    "- El análisis debe estar hecho en R o Python Pandas.\n",
    "- El análisis debe entregarse en formato papel en una carpeta en donde se incluya el reporte completo y todas las visualizaciones generadas. Es altamente recomendable que las visualizaciones se impriman en color.\n",
    "- Informar el link a un repositorio Github en donde pueda bajarse el código completo para generar el análisis.\n",
    "- Agregar en Kaggle un kernel con el análisis exploratorio realizado.\n",
    "\n",
    "La evaluación del TP se realizará en base al siguiente criterio:\n",
    "\n",
    "- Originalidad del análisis exploratorio. \n",
    "- Calidad del reporte. ¿Está bien escrito? ¿Es claro y preciso? \n",
    "- Calidad del análisis exploratorio: qué tipo de preguntas se hacen y de qué forma se responden, ¿es la respuesta clara y concisa con respecto a la pregunta formulada? \n",
    "- Calidad de las visualizaciones presentadas.\n",
    "- ¿Tienen todos los ejes su rótulo?\n",
    "- ¿Tiene cada visualización un título?\n",
    "- ¿Es entendible la visualización sin tener que leer la explicación?\n",
    "- ¿El tipo de plot elegido es adecuado para lo que se quiere visualizar?\n",
    "- ¿Es una visualización interesante?\n",
    "- ¿El uso del color es adecuado?\n",
    "- ¿Hay un exceso o falta de elementos visuales en la visualización elegida?\n",
    "- ¿La visualización es consistente con los datos?\n",
    "- Conclusiones presentadas.\n",
    "- ¿Presenta el grupo un listado de \"insights\" aprendidos sobre los datos en base al análisis realizado? ¿Es interesante? ¿Descubrieron cosas que pueden ser de interés las personas que estén pensando en realizar alguna operación inmobiliaria, o a empresa Properati?\n"
   ]
  },
  {
   "cell_type": "code",
   "execution_count": 1,
   "metadata": {
    "collapsed": true
   },
   "outputs": [],
   "source": [
    "import numpy as np \n",
    "import pandas as pd\n",
    "\n",
    "# plots\n",
    "import matplotlib.pyplot as plt\n",
    "import seaborn as sns\n",
    "\n",
    "%matplotlib inline"
   ]
  },
  {
   "cell_type": "markdown",
   "metadata": {},
   "source": [
    "### Carga de archivos:"
   ]
  },
  {
   "cell_type": "code",
   "execution_count": 4,
   "metadata": {},
   "outputs": [],
   "source": [
    "#Carga de datos 2017\n",
    "filenames_2017 = ['properties/properati-AR-2017-01-01-properties-sell.csv',\n",
    "                 'properties/properati-AR-2017-02-01-properties-sell.csv',\n",
    "                 'properties/properati-AR-2017-03-01-properties-sell.csv',\n",
    "                 'properties/properati-AR-2017-04-01-properties-sell.csv',\n",
    "                 'properties/properati-AR-2017-05-01-properties-sell.csv',\n",
    "                 'properties/properati-AR-2017-06-01-properties-sell.csv',\n",
    "                 'properties/properati-AR-2017-07-01-properties-sell.csv',\n",
    "                 'properties/properati-AR-2017-08-01-properties-sell.csv']\n",
    "\n",
    "dataframes_2017 = []\n",
    "for filename in filenames_2017:\n",
    "    dataframes_2017.append(pd.read_csv(filename))\n",
    "    \n",
    "data_2017 = pd.DataFrame()\n",
    "for dataframe in dataframes_2017:\n",
    "    data_2017 = pd.concat([data_2017, dataframe]).drop_duplicates().reset_index(drop=True)\n",
    "    \n",
    "#Carga de datos 2017\n",
    "filenames_2016 = ['properties/properati-AR-2016-01-01-properties-sell.csv', \n",
    "            'properties/properati-AR-2016-02-01-properties-sell.csv',\n",
    "            'properties/properati-AR-2016-03-01-properties-sell.csv',\n",
    "            'properties/properati-AR-2016-04-01-properties-sell.csv',\n",
    "            'properties/properati-AR-2016-05-01-properties-sell.csv',\n",
    "            'properties/properati-AR-2016-06-01-properties-sell.csv',\n",
    "            'properties/properati-AR-2016-07-01-properties-sell.csv',\n",
    "            'properties/properati-AR-2016-08-01-properties-sell.csv',\n",
    "            'properties/properati-AR-2016-09-01-properties-sell.csv',\n",
    "            'properties/properati-AR-2016-10-01-properties-sell.csv',\n",
    "            'properties/properati-AR-2016-11-01-properties-sell.csv',\n",
    "            'properties/properati-AR-2016-12-01-properties-sell.csv']\n",
    "\n",
    "dataframes_2016 = []\n",
    "for filename in filenames_2016:\n",
    "    dataframes_2016.append(pd.read_csv(filename))\n",
    "\n",
    "data_2016 = pd.DataFrame()\n",
    "for dataframe in dataframes_2016:\n",
    "    data_2016 = pd.concat([data_2016, dataframe]).drop_duplicates().reset_index(drop=True)\n",
    "\n",
    "#Primer y Segundo Semestre de 2015\n",
    "psem_2015 = pd.read_csv('properties/properati-AR-2015-06-01-properties-sell-six_months.csv')\n",
    "ssem_2015 = pd.read_csv('properties/properati-AR-2015-12-01-properties-sell-six_months.csv')\n",
    "#Primer y Segundo Semestre de 2014\n",
    "psem_2014 = pd.read_csv('properties/properati-AR-2014-07-01-properties-sell.csv')\n",
    "ssem_2014 = pd.read_csv('properties/properati-AR-2015-01-01-properties-sell-six_months.csv')\n",
    "\n",
    "#este lo incluimos o no vale la pena?????\n",
    "dic_2013 = pd.read_csv('properties/properati-AR-2013-12-01-properties-sell.csv')\n",
    "\n",
    "data1 = pd.concat([data_2017, data_2016, psem_2015, ssem_2015, psem_2014, ssem_2014]).drop_duplicates('properati_url').reset_index(drop=True)\n",
    "data2 = pd.concat([data_2017, data_2016, psem_2015, ssem_2015, psem_2014, ssem_2014]).drop_duplicates().reset_index(drop=True)\n"
   ]
  },
  {
   "cell_type": "code",
   "execution_count": 5,
   "metadata": {},
   "outputs": [
    {
     "name": "stdout",
     "output_type": "stream",
     "text": [
      "<class 'pandas.core.frame.DataFrame'>\n",
      "RangeIndex: 415445 entries, 0 to 415444\n",
      "Data columns (total 28 columns):\n",
      "country_name                  363784 non-null object\n",
      "created_on                    415445 non-null object\n",
      "currency                      348246 non-null object\n",
      "description                   363766 non-null object\n",
      "expenses                      37066 non-null float64\n",
      "floor                         49106 non-null float64\n",
      "geonames_id                   354368 non-null float64\n",
      "id                            363784 non-null object\n",
      "image_thumbnail               406679 non-null object\n",
      "lat                           305925 non-null float64\n",
      "lat-lon                       305925 non-null object\n",
      "lon                           305925 non-null float64\n",
      "operation                     415445 non-null object\n",
      "place_name                    415394 non-null object\n",
      "place_with_parent_names       415445 non-null object\n",
      "price                         365117 non-null float64\n",
      "price_aprox_local_currency    365115 non-null float64\n",
      "price_aprox_usd               365115 non-null float64\n",
      "price_per_m2                  258506 non-null float64\n",
      "price_usd_per_m2              231334 non-null float64\n",
      "properati_url                 415445 non-null object\n",
      "property_type                 415445 non-null object\n",
      "rooms                         225228 non-null float64\n",
      "state_name                    363784 non-null object\n",
      "surface_covered_in_m2         296950 non-null float64\n",
      "surface_in_m2                 38433 non-null float64\n",
      "surface_total_in_m2           244694 non-null float64\n",
      "title                         363784 non-null object\n",
      "dtypes: float64(14), object(14)\n",
      "memory usage: 88.7+ MB\n"
     ]
    }
   ],
   "source": [
    "data1.info()"
   ]
  },
  {
   "cell_type": "code",
   "execution_count": 6,
   "metadata": {
    "scrolled": true
   },
   "outputs": [
    {
     "name": "stdout",
     "output_type": "stream",
     "text": [
      "<class 'pandas.core.frame.DataFrame'>\n",
      "RangeIndex: 543213 entries, 0 to 543212\n",
      "Data columns (total 28 columns):\n",
      "country_name                  486374 non-null object\n",
      "created_on                    543213 non-null object\n",
      "currency                      466126 non-null object\n",
      "description                   486349 non-null object\n",
      "expenses                      44263 non-null float64\n",
      "floor                         63400 non-null float64\n",
      "geonames_id                   461264 non-null float64\n",
      "id                            486374 non-null object\n",
      "image_thumbnail               531470 non-null object\n",
      "lat                           401079 non-null float64\n",
      "lat-lon                       401079 non-null object\n",
      "lon                           401079 non-null float64\n",
      "operation                     543213 non-null object\n",
      "place_name                    543135 non-null object\n",
      "place_with_parent_names       543213 non-null object\n",
      "price                         483709 non-null float64\n",
      "price_aprox_local_currency    483707 non-null float64\n",
      "price_aprox_usd               483707 non-null float64\n",
      "price_per_m2                  354789 non-null float64\n",
      "price_usd_per_m2              310490 non-null float64\n",
      "properati_url                 543213 non-null object\n",
      "property_type                 543213 non-null object\n",
      "rooms                         298151 non-null float64\n",
      "state_name                    486374 non-null object\n",
      "surface_covered_in_m2         399360 non-null float64\n",
      "surface_in_m2                 41946 non-null float64\n",
      "surface_total_in_m2           328241 non-null float64\n",
      "title                         486374 non-null object\n",
      "dtypes: float64(14), object(14)\n",
      "memory usage: 116.0+ MB\n"
     ]
    }
   ],
   "source": [
    "data2.info()"
   ]
  },
  {
   "cell_type": "code",
   "execution_count": 9,
   "metadata": {
    "scrolled": true
   },
   "outputs": [
    {
     "name": "stdout",
     "output_type": "stream",
     "text": [
      "<class 'pandas.core.frame.DataFrame'>\n",
      "RangeIndex: 355762 entries, 0 to 355761\n",
      "Data columns (total 28 columns):\n",
      "country_name                  355761 non-null object\n",
      "created_on                    355762 non-null object\n",
      "currency                      301479 non-null object\n",
      "description                   355744 non-null object\n",
      "expenses                      36059 non-null float64\n",
      "floor                         37615 non-null float64\n",
      "geonames_id                   302217 non-null float64\n",
      "id                            355761 non-null object\n",
      "image_thumbnail               349815 non-null object\n",
      "lat                           257352 non-null float64\n",
      "lat-lon                       257352 non-null object\n",
      "lon                           257352 non-null float64\n",
      "operation                     355762 non-null object\n",
      "place_name                    355716 non-null object\n",
      "place_with_parent_names       355762 non-null object\n",
      "price                         316601 non-null float64\n",
      "price_aprox_local_currency    316601 non-null float64\n",
      "price_aprox_usd               316601 non-null float64\n",
      "price_per_m2                  254213 non-null float64\n",
      "price_usd_per_m2              195186 non-null float64\n",
      "properati_url                 355762 non-null object\n",
      "property_type                 355762 non-null object\n",
      "rooms                         187606 non-null float64\n",
      "state_name                    355761 non-null object\n",
      "surface_covered_in_m2         291766 non-null float64\n",
      "surface_in_m2                 1 non-null float64\n",
      "surface_total_in_m2           240334 non-null float64\n",
      "title                         355761 non-null object\n",
      "dtypes: float64(14), object(14)\n",
      "memory usage: 76.0+ MB\n"
     ]
    }
   ],
   "source": [
    "data3 = pd.concat([data_2017, data_2016, psem_2015, ssem_2015, psem_2014, ssem_2014]).drop_duplicates('id').reset_index(drop=True)\n",
    "data3.info()\n"
   ]
  },
  {
   "cell_type": "markdown",
   "metadata": {},
   "source": [
    "## Análisis de 2016 y 2017.\n",
    "O los combinamos o van uno atrás del otro\n"
   ]
  },
  {
   "cell_type": "code",
   "execution_count": null,
   "metadata": {
    "collapsed": true
   },
   "outputs": [],
   "source": []
  }
 ],
 "metadata": {
  "kernelspec": {
   "display_name": "Python 2",
   "language": "python",
   "name": "python2"
  },
  "language_info": {
   "codemirror_mode": {
    "name": "ipython",
    "version": 2
   },
   "file_extension": ".py",
   "mimetype": "text/x-python",
   "name": "python",
   "nbconvert_exporter": "python",
   "pygments_lexer": "ipython2",
   "version": "2.7.13"
  }
 },
 "nbformat": 4,
 "nbformat_minor": 2
}
